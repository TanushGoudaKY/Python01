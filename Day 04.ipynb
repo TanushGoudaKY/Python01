{
 "cells": [
  {
   "cell_type": "code",
   "execution_count": 2,
   "id": "58cc59bc-ef78-4a62-bc26-9604c8232a35",
   "metadata": {},
   "outputs": [
    {
     "name": "stdin",
     "output_type": "stream",
     "text": [
      " tannat\n"
     ]
    },
    {
     "name": "stdout",
     "output_type": "stream",
     "text": [
      "Is a Palindrome\n"
     ]
    }
   ],
   "source": [
    "a=input()\n",
    "flag=0\n",
    "for i in range(0,int(len(a)/2)):\n",
    "    if a[i]!=a[(i+1)*-1]:\n",
    "        flag=1\n",
    "        break\n",
    "\n",
    "if flag:\n",
    "    print(\"Is not a Palindrome\")\n",
    "else:\n",
    "    print(\"Is a Palindrome\")"
   ]
  },
  {
   "cell_type": "code",
   "execution_count": 42,
   "id": "7457f315-7ac1-4f65-8116-8aebae45dea0",
   "metadata": {},
   "outputs": [
    {
     "name": "stdin",
     "output_type": "stream",
     "text": [
      "Enter A number:  5623\n"
     ]
    },
    {
     "name": "stdout",
     "output_type": "stream",
     "text": [
      "The number is a prime number\n"
     ]
    }
   ],
   "source": [
    "#Write a program for prime numbers. \n",
    "n=int(input(\"Enter A number: \"))\n",
    "flag=0\n",
    "for x in range(2,n):\n",
    "    if n%x==0:\n",
    "        flag=1\n",
    "\n",
    "if flag:\n",
    "    print(\"The Number is not A Prime Number\")\n",
    "else:\n",
    "    print(\"The number is a prime number\")\n",
    " \n",
    "        "
   ]
  },
  {
   "cell_type": "code",
   "execution_count": 48,
   "id": "f96760e0-8ed8-4515-817f-f70085d46ce0",
   "metadata": {},
   "outputs": [
    {
     "name": "stdout",
     "output_type": "stream",
     "text": [
      "[1, 2, 3, 4, 5]\n"
     ]
    }
   ],
   "source": [
    "A=[3,1,4,2,5]\n",
    "for i in range(len(A)):\n",
    "    for j in range(i+1,len(A)):\n",
    "        if A[i]>A[j]:\n",
    "            A[i],A[j]=A[j],A[i]\n",
    "\n",
    "print(A)"
   ]
  },
  {
   "cell_type": "code",
   "execution_count": null,
   "id": "ff08624c-cb16-4b35-97b8-9489a576a05f",
   "metadata": {},
   "outputs": [],
   "source": [
    "#File Handling\n",
    "#Create\n",
    "#Read\n",
    "#Update\n",
    "#Delete"
   ]
  },
  {
   "cell_type": "code",
   "execution_count": 9,
   "id": "43357b47-e6a7-4b16-9b85-4bf7677fb851",
   "metadata": {},
   "outputs": [
    {
     "name": "stdout",
     "output_type": "stream",
     "text": [
      "This is my Python file\n",
      "123456\n",
      "This is my File\n",
      "123456\n",
      "i am gonna edit it\n",
      "\n"
     ]
    },
    {
     "ename": "AttributeError",
     "evalue": "'_io.TextIOWrapper' object has no attribute 'update'",
     "output_type": "error",
     "traceback": [
      "\u001b[1;31m---------------------------------------------------------------------------\u001b[0m",
      "\u001b[1;31mAttributeError\u001b[0m                            Traceback (most recent call last)",
      "Cell \u001b[1;32mIn[9], line 24\u001b[0m\n\u001b[0;32m     21\u001b[0m         \u001b[38;5;28mprint\u001b[39m(a)\n\u001b[0;32m     23\u001b[0m \u001b[38;5;28;01mwith\u001b[39;00m \u001b[38;5;28mopen\u001b[39m(\u001b[38;5;124m\"\u001b[39m\u001b[38;5;124mfilename.txt\u001b[39m\u001b[38;5;124m\"\u001b[39m,\u001b[38;5;124m'\u001b[39m\u001b[38;5;124mr\u001b[39m\u001b[38;5;124m'\u001b[39m)\u001b[38;5;28;01mas\u001b[39;00m f:\n\u001b[1;32m---> 24\u001b[0m     \u001b[43mf\u001b[49m\u001b[38;5;241;43m.\u001b[39;49m\u001b[43mupdate\u001b[49m(\u001b[38;5;124m\"\u001b[39m\u001b[38;5;124mDarkAlpha.txt\u001b[39m\u001b[38;5;124m\"\u001b[39m)\n\u001b[0;32m     25\u001b[0m     f\u001b[38;5;241m.\u001b[39mclose\n",
      "\u001b[1;31mAttributeError\u001b[0m: '_io.TextIOWrapper' object has no attribute 'update'"
     ]
    }
   ],
   "source": [
    "import os\n",
    "with open(\"filename.txt\",'w')as f:\n",
    "    f.write(\"This is my Python file\\n\")\n",
    "    f.close()\n",
    "\n",
    "with open(\"filename.txt\",'a')as f:\n",
    "    f.write(\"This is my File\")\n",
    "    f.close()\n",
    "\n",
    "with open(\"filename.txt\",'r')as f:\n",
    "    for a in f.read().split(\"\\n\"):\n",
    "        print(a)\n",
    "        print(\"123456\")\n",
    "\n",
    "with open(\"filename.txt\",'w')as f:\n",
    "    f.write(\"i am gonna edit it\\n\")\n",
    "    f.close()\n",
    "\n",
    "with open(\"filename.txt\",'r')as f:\n",
    "    for a in f.read().split(\"\\n\"):\n",
    "        print(a)\n",
    "\n",
    "with open(\"filename.txt\",'r')as f:\n",
    "    f.(\"DarkAlpha.txt\")\n",
    "    f.close"
   ]
  },
  {
   "cell_type": "code",
   "execution_count": 1,
   "id": "782d9c70-2ed6-4772-a8e5-78602dbcdc2f",
   "metadata": {},
   "outputs": [
    {
     "name": "stdin",
     "output_type": "stream",
     "text": [
      "Enter the types of Fruits:  Apple Mango Banana Orange\n"
     ]
    },
    {
     "name": "stdout",
     "output_type": "stream",
     "text": [
      "Apple Mango Banana Orange\n"
     ]
    },
    {
     "name": "stdin",
     "output_type": "stream",
     "text": [
      "Enter the Fruit to be replaced:  Grapes\n"
     ]
    },
    {
     "ename": "AttributeError",
     "evalue": "'_io.TextIOWrapper' object has no attribute 'replace'",
     "output_type": "error",
     "traceback": [
      "\u001b[1;31m---------------------------------------------------------------------------\u001b[0m",
      "\u001b[1;31mAttributeError\u001b[0m                            Traceback (most recent call last)",
      "Cell \u001b[1;32mIn[1], line 12\u001b[0m\n\u001b[0;32m     10\u001b[0m \u001b[38;5;28;01mwith\u001b[39;00m \u001b[38;5;28mopen\u001b[39m(\u001b[38;5;124m\"\u001b[39m\u001b[38;5;124mFruits.txt\u001b[39m\u001b[38;5;124m\"\u001b[39m,\u001b[38;5;124m'\u001b[39m\u001b[38;5;124mw\u001b[39m\u001b[38;5;124m'\u001b[39m) \u001b[38;5;28;01mas\u001b[39;00m f:\n\u001b[0;32m     11\u001b[0m     a\u001b[38;5;241m=\u001b[39m\u001b[38;5;28minput\u001b[39m(\u001b[38;5;124m\"\u001b[39m\u001b[38;5;124mEnter the Fruit to be replaced: \u001b[39m\u001b[38;5;124m\"\u001b[39m)\n\u001b[1;32m---> 12\u001b[0m     \u001b[43mf\u001b[49m\u001b[38;5;241;43m.\u001b[39;49m\u001b[43mreplace\u001b[49m(\u001b[38;5;124m\"\u001b[39m\u001b[38;5;124mBanana\u001b[39m\u001b[38;5;124m\"\u001b[39m,a)\n\u001b[0;32m     14\u001b[0m \u001b[38;5;28;01mwith\u001b[39;00m \u001b[38;5;28mopen\u001b[39m(\u001b[38;5;124m\"\u001b[39m\u001b[38;5;124mFruits.txt\u001b[39m\u001b[38;5;124m\"\u001b[39m,\u001b[38;5;124m'\u001b[39m\u001b[38;5;124mr\u001b[39m\u001b[38;5;124m'\u001b[39m) \u001b[38;5;28;01mas\u001b[39;00m f:\n\u001b[0;32m     15\u001b[0m     \u001b[38;5;28mprint\u001b[39m(f\u001b[38;5;241m.\u001b[39mread())\n",
      "\u001b[1;31mAttributeError\u001b[0m: '_io.TextIOWrapper' object has no attribute 'replace'"
     ]
    }
   ],
   "source": [
    "\n",
    "import os\n",
    "with open(\"Fruits.txt\",'w') as f:\n",
    "    f.write(input(\"Enter the types of Fruits: \"))\n",
    "    f.close()\n",
    "def replace(old,new):\n",
    "    with open(\"Fruits.txt\")\n",
    "\n",
    "\n",
    "\n",
    "with open(\"Fruits.txt\",'r') as f:\n",
    "    print(f.read())\n",
    "    f.close()\n",
    "\n",
    "with open(\"Fruits.txt\",'w') as f:\n",
    "    a=input(\"Enter the Fruit to be replaced: \")\n",
    "    f.replace(\"Banana\",a)\n",
    "\n",
    "with open(\"Fruits.txt\",'r') as f:\n",
    "    print(f.read())\n",
    "    f.close()\n"
   ]
  },
  {
   "cell_type": "code",
   "execution_count": null,
   "id": "3d3ef5b8-225e-48ac-8690-ecbab6fcff0b",
   "metadata": {},
   "outputs": [],
   "source": []
  }
 ],
 "metadata": {
  "kernelspec": {
   "display_name": "Python 3 (ipykernel)",
   "language": "python",
   "name": "python3"
  },
  "language_info": {
   "codemirror_mode": {
    "name": "ipython",
    "version": 3
   },
   "file_extension": ".py",
   "mimetype": "text/x-python",
   "name": "python",
   "nbconvert_exporter": "python",
   "pygments_lexer": "ipython3",
   "version": "3.12.3"
  }
 },
 "nbformat": 4,
 "nbformat_minor": 5
}
