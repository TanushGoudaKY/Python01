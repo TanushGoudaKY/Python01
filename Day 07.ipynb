{
 "cells": [
  {
   "cell_type": "code",
   "execution_count": 7,
   "id": "28de54ff-2673-4c58-9d4e-5c4ea4f7e67f",
   "metadata": {},
   "outputs": [
    {
     "name": "stdout",
     "output_type": "stream",
     "text": [
      "[12, 11, 10, 11, 14, 17, 19, 18, 18, 17, 17, 17, 13, 11, 8, 13, 18, 19, 15, 15, 19, 17, 18, 13, 16, 17]\n",
      "------------------------------------------------------------------------------------------------------\n",
      "MAX VALUE -->  19\n"
     ]
    }
   ],
   "source": [
    "#find the sum of consecutive 3 number \n",
    "l=[2,4,6,1,3,7,4,6,9,3,6,8,3,6,4,1,3,9,6,4,5,6,8,3,7,3,6,8]\n",
    "a=[]\n",
    "s=0\n",
    "MAX=0\n",
    "SUM=0\n",
    "for i in range(0,(len(l)-2)):\n",
    "    s=l[i]+l[i+1]+l[i+2]\n",
    "    a.append(s)\n",
    "\n",
    "print(a)\n",
    "\n",
    "for i in a:\n",
    "    if a[i]>=MAX:\n",
    "        MAX=a[i]\n",
    "\n",
    "print(\"------------------------------------------------------------------------------------------------------\")\n",
    "\n",
    "print(\"MAX VALUE --> \",MAX)"
   ]
  },
  {
   "cell_type": "code",
   "execution_count": 65,
   "id": "6feed3ab-bcf5-4458-ad4d-01c93529e82e",
   "metadata": {},
   "outputs": [
    {
     "name": "stdin",
     "output_type": "stream",
     "text": [
      "ENter the limit :  5\n"
     ]
    },
    {
     "name": "stdout",
     "output_type": "stream",
     "text": [
      "ENter the elements: \n"
     ]
    },
    {
     "name": "stdin",
     "output_type": "stream",
     "text": [
      " 1\n",
      " 2\n",
      " 4\n",
      " 5\n",
      " 1\n"
     ]
    },
    {
     "name": "stdout",
     "output_type": "stream",
     "text": [
      "[1, 2, 4, 5, 1]\n"
     ]
    },
    {
     "name": "stdin",
     "output_type": "stream",
     "text": [
      "Enter the Consecuted 2\n"
     ]
    },
    {
     "name": "stdout",
     "output_type": "stream",
     "text": [
      "7\n"
     ]
    }
   ],
   "source": [
    "l=[]\n",
    "s=0\n",
    "Max=0\n",
    "n=int(input(\"ENter the limit : \"))\n",
    "print(\"ENter the elements: \")\n",
    "for i in range(0,n):\n",
    "    a=int(input())\n",
    "    l.append(a)\n",
    "print(l)\n",
    "e=int(input(\"Enter the Consecuted\"))\n",
    "for i in range(0,len(l)-e):\n",
    "    for j in range(0,e-1):\n",
    "        s+=l[i+j]\n",
    "    if Max<s:\n",
    "        Max=s\n",
    "print(Max)\n"
   ]
  },
  {
   "cell_type": "code",
   "execution_count": 27,
   "id": "8dc91d90-9913-4b47-b76d-7a91d9a3aab0",
   "metadata": {},
   "outputs": [
    {
     "name": "stdin",
     "output_type": "stream",
     "text": [
      "Enter the limit: 8\n"
     ]
    },
    {
     "name": "stdout",
     "output_type": "stream",
     "text": [
      "Enter the Numbers: \n"
     ]
    },
    {
     "name": "stdin",
     "output_type": "stream",
     "text": [
      " 1\n",
      " 2\n",
      " 5\n",
      " 4\n",
      " 8\n",
      " 5\n",
      " 1\n",
      " 2\n"
     ]
    },
    {
     "name": "stdout",
     "output_type": "stream",
     "text": [
      "Before Sorting:  [1, 2, 5, 4, 8, 5, 1, 2]\n",
      "--------------------------------------------------------------------------------------------\n",
      " In Ascending Order--->\n",
      "[1, 1, 2, 2, 4, 5, 5, 8]\n",
      "--------------------------------------------------------------------------------------------\n",
      " In Descending Order--->\n",
      "[8, 5, 5, 4, 2, 2, 1, 1]\n"
     ]
    }
   ],
   "source": [
    "l=[]\n",
    "n=int(input(\"Enter the limit:\"))\n",
    "print(\"Enter the Numbers: \")\n",
    "for i in range(0,n,+1):\n",
    "    a=int(input())\n",
    "    l.append(a)\n",
    "    \n",
    "print(\"Before Sorting: \",l)\n",
    "print(\"--------------------------------------------------------------------------------------------\")\n",
    "print(\" In Ascending Order--->\")\n",
    "for i in range(0,len(l)-1):\n",
    "    for j in range(i+1,len(l)):\n",
    "        if l[i]>l[j]:\n",
    "            l[i],l[j]=l[j],l[i]\n",
    "\n",
    "print(l)\n",
    "\n",
    "print(\"--------------------------------------------------------------------------------------------\")\n",
    "print(\" In Descending Order--->\")\n",
    "for i in range(0,len(l)-1):\n",
    "    for j in range(i+1,len(l)):\n",
    "        if l[i]<l[j]:\n",
    "            l[i],l[j]=l[j],l[i]\n",
    "\n",
    "print(l)\n",
    "             \n",
    "     "
   ]
  },
  {
   "cell_type": "code",
   "execution_count": null,
   "id": "29fe8462-bc92-444c-9634-3d00f69dba38",
   "metadata": {},
   "outputs": [],
   "source": []
  }
 ],
 "metadata": {
  "kernelspec": {
   "display_name": "Python 3 (ipykernel)",
   "language": "python",
   "name": "python3"
  },
  "language_info": {
   "codemirror_mode": {
    "name": "ipython",
    "version": 3
   },
   "file_extension": ".py",
   "mimetype": "text/x-python",
   "name": "python",
   "nbconvert_exporter": "python",
   "pygments_lexer": "ipython3",
   "version": "3.12.3"
  }
 },
 "nbformat": 4,
 "nbformat_minor": 5
}
