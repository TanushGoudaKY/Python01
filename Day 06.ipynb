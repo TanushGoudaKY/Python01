{
 "cells": [
  {
   "cell_type": "code",
   "execution_count": 14,
   "id": "48f32501-059c-48e6-bf1d-6c75596870b0",
   "metadata": {},
   "outputs": [
    {
     "name": "stdout",
     "output_type": "stream",
     "text": [
      "                                                                                                 \n",
      "                                                                                                 \n",
      "<-------The Attributes of CAR :--------->\n",
      "Car Name          :  Hyndai Creta\n",
      "Colour            :  Polar White\n",
      "Price             :  16 lhks\n",
      "Registration no.  :  KA-34 BL-8980 \n",
      "Engine power(CC)  :  1800 CC\n",
      "car model         :  SUV\n",
      "No.of Passangers  :  6 Persons\n",
      "Max Speed         :  210 km/h\n",
      "                                                                                                 \n",
      "                                                                                                 \n",
      "<------The Attributes of TRUCK :-------->\n",
      "Name of Truck     :  Ashok Leyland\n",
      "Colour            :  Maroon Red\n",
      "Price             :  25 lhks\n",
      "Registration no.  :  KA-34 MYS-1023\n",
      "Engine power(CC)  :  5000 CC\n",
      "no.of Axels       :  4 Axels 12 Wheels\n",
      "Load Capacity     :  2 TONS\n"
     ]
    }
   ],
   "source": [
    "class vehicle:\n",
    "    def __init__(self,c,p,plt,eg):\n",
    "        self.colour=c\n",
    "        self.price=p\n",
    "        self.plate=plt\n",
    "        self.engine=eg\n",
    "    \n",
    "    def product(self):\n",
    "        print(\"Colour            : \",self.colour)\n",
    "        print(\"Price             : \",self.price)\n",
    "        print(\"Registration no.  : \",self.plate)\n",
    "        print(\"Engine power(CC)  : \",self.engine)\n",
    "\n",
    "class Car(vehicle):\n",
    "    def __init__(self,nam,c,p,plt,eg,typ,num,maxsp):\n",
    "        self.name=nam\n",
    "        self.types=typ\n",
    "        self.nopass=num\n",
    "        self.maxspd=maxsp\n",
    "        super().__init__(c,p,plt,eg)\n",
    "    \n",
    "    def product(self):\n",
    "        print(\"<-------The Attributes of CAR :--------->\")\n",
    "        print(\"Car Name          : \",self.name)\n",
    "        super().product()\n",
    "        print(\"car model         : \",self.types)\n",
    "        print(\"No.of Passangers  : \",self.nopass)\n",
    "        print(\"Max Speed         : \",self.maxspd)\n",
    "\n",
    "class Truck(vehicle):\n",
    "    def __init__(self,nam,c,p,plt,eg,axl,lc):\n",
    "        self.name=nam\n",
    "        self.axel=axl\n",
    "        self.load=lc\n",
    "        super().__init__(c,p,plt,eg)\n",
    "    \n",
    "    def product(self):\n",
    "        print(\"<------The Attributes of TRUCK :-------->\")\n",
    "        print(\"Name of Truck     : \",self.name)\n",
    "        super().product()\n",
    "        print(\"no.of Axels       : \",self.axel)\n",
    "        print(\"Load Capacity     : \",self.load)\n",
    "\n",
    "if __name__==\"__main__\":\n",
    "    print(\"                                                                                                 \")\n",
    "    print(\"                                                                                                 \")\n",
    "    car=Car(\"Hyndai Creta\",\"Polar White\",\"16 lhks\",\"KA-34 BL-8980 \",\"1800 CC\",\"SUV\",\"6 Persons\",\"210 km/h\")\n",
    "    car.product() \n",
    "    print(\"                                                                                                 \")\n",
    "    print(\"                                                                                                 \")\n",
    "    tru=Truck(\"Ashok Leyland\",\"Maroon Red\",\"25 lhks\",\"KA-34 MYS-1023\",\"5000 CC\",\"4 Axels 12 Wheels\",\"2 TONS\")\n",
    "    tru.product()\n",
    "        "
   ]
  },
  {
   "cell_type": "code",
   "execution_count": 44,
   "id": "2fc314cd-5e86-4e6d-bbd3-a538b71fe4bc",
   "metadata": {},
   "outputs": [
    {
     "name": "stdout",
     "output_type": "stream",
     "text": [
      "_______________________________________________________________________________________________________________________________________\n",
      "<------ S-Staff Details ---------->\n",
      "                                                                                \n",
      "Employee ID         :  10395729\n",
      "Employee Name       :  Aravinda Sametha\n",
      "Employee Salary     :  25,000\n",
      "Work Type           :  Labour\n",
      "Work Area           :  Construction\n",
      "                                                                                                 \n",
      "                                                                                                 \n",
      "_______________________________________________________________________________________________________________________________________\n",
      "<------ Developer Details ---------->\n",
      "                                                                                \n",
      "Employee ID         :  98456151\n",
      "Employee Name       :  Raghavendra Bose\n",
      "Employee Salary     :  1,23,500\n",
      "Module              :  Payroll Management\n",
      "Technology          :  Civil Engg\n",
      "Experience          :  15 Yrs in Bajaj cement\n",
      "                                                                                                 \n",
      "                                                                                                 \n",
      "_______________________________________________________________________________________________________________________________________\n",
      "<------- Manager Details ---------->\n",
      "                                                                                \n",
      "Employee ID         :  45213821\n",
      "Employee Name       :  Ram Teja\n",
      "Employee Salary     :  3,00,500\n",
      "Project             :  SRV Mall\n",
      "Client Name         :  Rajveer Hamsadha\n"
     ]
    }
   ],
   "source": [
    "class Employee:\n",
    "    def __init__(self,eid,nam,sal):\n",
    "        self.id=eid\n",
    "        self.name=nam\n",
    "        self.salary=sal\n",
    "    def info(self):\n",
    "        print(\"Employee ID         : \",self.id)\n",
    "        print(\"Employee Name       : \",self.name)\n",
    "        print(\"Employee Salary     : \",self.salary)\n",
    "\n",
    "class Staff(Employee):\n",
    "    def __init__(self,eid,nam,sal,typ,ar):\n",
    "        self.type=typ\n",
    "        self.area=ar\n",
    "        super().__init__(eid,nam,sal)\n",
    "        \n",
    "    def info(self):\n",
    "        print(\"_______________________________________________________________________________________________________________________________________\")\n",
    "        print(\"<------ S-Staff Details ---------->\")\n",
    "        print(\"                                                                                \")\n",
    "        super().info()\n",
    "        print(\"Work Type           : \",self.type)\n",
    "        print(\"Work Area           : \",self.area)\n",
    "\n",
    "class Developer(Employee):\n",
    "    def __init__(self,eid,nam,sal,mod,tech,exp):\n",
    "        self.Mod=mod\n",
    "        self.Tech=tech\n",
    "        self.Exp=exp\n",
    "        super().__init__(eid,nam,sal)\n",
    "        \n",
    "    def info(self):\n",
    "        print(\"_______________________________________________________________________________________________________________________________________\")\n",
    "        print(\"<------ Developer Details ---------->\")\n",
    "        print(\"                                                                                \")\n",
    "        super().info()\n",
    "        print(\"Module              : \",self.Mod)\n",
    "        print(\"Technology          : \",self.Tech)\n",
    "        print(\"Experience          : \",self.Exp)\n",
    "\n",
    "class Manager(Employee):\n",
    "    def __init__(self,eid,nam,sal,prj,cl):\n",
    "        self.project=prj\n",
    "        self.Client=cl\n",
    "        super().__init__(eid,nam,sal)\n",
    "        \n",
    "    def info(self):\n",
    "        print(\"_______________________________________________________________________________________________________________________________________\")\n",
    "        print(\"<------- Manager Details ---------->\")\n",
    "        print(\"                                                                                \")\n",
    "        super().info()\n",
    "        print(\"Project             : \",self.project)\n",
    "        print(\"Client Name         : \",self.Client)\n",
    "\n",
    "if __name__==\"__main__\":\n",
    "    staf=Staff(\"10395729\",\"Aravinda Sametha\",\"25,000\",\"Labour\",\"Construction\")\n",
    "    staf.info()\n",
    "    print(\"                                                                                                 \")\n",
    "    print(\"                                                                                                 \")\n",
    "    devo=Developer(\"98456151\",\"Raghavendra Bose\",\"1,23,500\",\"Payroll Management\",\"Civil Engg\",\"15 Yrs in Bajaj cement\")\n",
    "    devo.info()\n",
    "    print(\"                                                                                                 \")\n",
    "    print(\"                                                                                                 \")\n",
    "    Man=Manager(\"45213821\",\"Ram Teja\",\"3,00,500\",\"SRV Mall\",\"Rajveer Hamsadha\")\n",
    "    Man.info()\n",
    "\n",
    "\n",
    "         \n",
    "        "
   ]
  },
  {
   "cell_type": "code",
   "execution_count": 45,
   "id": "f081bb67-99d4-46a1-a436-cb8e16a4c380",
   "metadata": {},
   "outputs": [
    {
     "name": "stdin",
     "output_type": "stream",
     "text": [
      "Enter the limit :  5\n"
     ]
    },
    {
     "name": "stdout",
     "output_type": "stream",
     "text": [
      "* * * *  \n",
      "*     *  \n",
      "*     *  \n",
      "* * * *  \n"
     ]
    }
   ],
   "source": [
    "n=int(input(\"Enter the limit : \"))\n",
    "for i in range(1,n):\n",
    "    for j in range(1,n):\n",
    "        if i==1 or i==n-1 or j==1 or j==n-1:\n",
    "            print(\"*\",end=\" \")\n",
    "        else:\n",
    "            print(\" \",end=\" \")\n",
    "    print(\" \")\n",
    "                                \n",
    "        "
   ]
  },
  {
   "cell_type": "code",
   "execution_count": 50,
   "id": "d4d63a57-be01-4a6b-9680-23dcd6192520",
   "metadata": {},
   "outputs": [
    {
     "name": "stdout",
     "output_type": "stream",
     "text": [
      "* * * * * * \n",
      "* * * * * * \n",
      "* * * * * * \n",
      "* * * * * * \n",
      "* * * * * * \n",
      "* * * * * * \n"
     ]
    }
   ],
   "source": [
    "for i in range(1,7):\n",
    "    for j in range(1,7):\n",
    "        if i==1 or i==6 or j==1 or j==6:\n",
    "            print(\"*\",end=\" \")\n",
    "        else:\n",
    "            print(\"*\",end=\" \")\n",
    "    print(\"\")"
   ]
  },
  {
   "cell_type": "code",
   "execution_count": 55,
   "id": "74ce0732-698b-49c1-94ae-66fbb27ed0fd",
   "metadata": {},
   "outputs": [
    {
     "name": "stdout",
     "output_type": "stream",
     "text": [
      " \n",
      "1  \n",
      "0 1  \n",
      "1 0 1  \n",
      "0 1 0 1  \n"
     ]
    }
   ],
   "source": [
    "\n",
    "#1\n",
    "for i in range(5):\n",
    "        for j in range(i):\n",
    "            if (i-j)%2==0:\n",
    "                print(\"0\",end=\" \")\n",
    "            else:\n",
    "                print(\"1\",end=\" \")\n",
    "        print(\" \")"
   ]
  },
  {
   "cell_type": "code",
   "execution_count": 58,
   "id": "506d5739-6191-4589-a39b-c4d05037134b",
   "metadata": {},
   "outputs": [
    {
     "name": "stdout",
     "output_type": "stream",
     "text": [
      "* * * * * *  \n",
      "*         *  \n",
      "*         *  \n",
      "*         *  \n",
      "*         *  \n",
      "* * * * * *  \n"
     ]
    }
   ],
   "source": [
    "for i in range(1,7):\n",
    "    for j in range(1,7):\n",
    "        if i==1 or i==6 or j==1 or j==6:\n",
    "            print(\"*\",end=\" \")\n",
    "        else:\n",
    "            print(\" \",end=\" \")\n",
    "    print(\" \")"
   ]
  },
  {
   "cell_type": "code",
   "execution_count": 63,
   "id": "f6c647da-b014-47e7-8c1d-f079dc4f4efa",
   "metadata": {},
   "outputs": [
    {
     "name": "stdout",
     "output_type": "stream",
     "text": [
      "\n",
      " 1 \n",
      " 2  3 \n",
      " 4  5  6 \n",
      " 7  8  9  10 \n",
      " 11  12  13  14  15 \n"
     ]
    }
   ],
   "source": [
    "\n",
    "\n",
    "num=1\n",
    "for i in range(6):\n",
    "        for j in range(i):\n",
    "            #print(f\"{num} \",end=\" \")\n",
    "            print(\"\",num,end=\" \")\n",
    "            num+=1\n",
    "        print('')"
   ]
  },
  {
   "cell_type": "code",
   "execution_count": 65,
   "id": "4ea40b85-0223-4edd-8124-2f4d9cfaff15",
   "metadata": {},
   "outputs": [
    {
     "name": "stdout",
     "output_type": "stream",
     "text": [
      "*  *  *  *  *  *  *  *  *  *  \n",
      "*  *  *  *  *  *  *  *  *  \n",
      "*  *  *  *  *  *  *  *  \n",
      "*  *  *  *  *  *  *  \n",
      "*  *  *  *  *  *  \n",
      "*  *  *  *  *  \n",
      "*  *  *  *  \n",
      "*  *  *  \n",
      "*  *  \n",
      "*  \n"
     ]
    }
   ],
   "source": [
    "for i in range(0,10):\n",
    "        for j in range(i,10):\n",
    "            print(\"* \",end=\" \")\n",
    "        print('')"
   ]
  },
  {
   "cell_type": "code",
   "execution_count": 68,
   "id": "a9067f29-8e0e-443c-8797-3a8b93fe3a5e",
   "metadata": {},
   "outputs": [
    {
     "name": "stdout",
     "output_type": "stream",
     "text": [
      "\n",
      " 1 \n",
      " 1  2 \n",
      " 1  2  3 \n",
      " 1  2  3  4 \n",
      " 1  2  3  4  5 \n"
     ]
    }
   ],
   "source": [
    "for i in range(1,7):\n",
    "        for j in range(1,i):\n",
    "            #print(f\"{num} \",end=\" \")\n",
    "            print(\"\",j,end=\" \")\n",
    "        print('')\n"
   ]
  },
  {
   "cell_type": "code",
   "execution_count": 85,
   "id": "3cd30901-3743-431b-893c-b0237b3c2d6c",
   "metadata": {},
   "outputs": [
    {
     "name": "stdout",
     "output_type": "stream",
     "text": [
      " 6  5  4  3  2  1 \n",
      " 5  4  3  2  1 \n",
      " 4  3  2  1 \n",
      " 3  2  1 \n",
      " 2  1 \n",
      " 1 \n"
     ]
    }
   ],
   "source": [
    "for i in range(6,0,-1):\n",
    "    for j in range(i,0,-1):\n",
    "        print(\"\",j,end=\" \")\n",
    "    print('')"
   ]
  },
  {
   "cell_type": "code",
   "execution_count": 91,
   "id": "2fe76813-5d83-44bb-b060-403f065d1883",
   "metadata": {},
   "outputs": [
    {
     "name": "stdin",
     "output_type": "stream",
     "text": [
      " 5\n"
     ]
    },
    {
     "name": "stdout",
     "output_type": "stream",
     "text": [
      "             \n",
      "        * \n",
      "      * * * \n",
      "    * * * * * \n",
      "  * * * * * * * \n",
      "* * * * * * * * * \n"
     ]
    }
   ],
   "source": [
    "n=int(input())\n",
    "print(\"             \")\n",
    "for i in range(1,n+1):\n",
    "    for j in range(1,n-i+1):\n",
    "        print(\" \",end=\" \")\n",
    "    for j in range(0,2*i-1):\n",
    "        print(\"*\",end=\" \")\n",
    "    print()"
   ]
  },
  {
   "cell_type": "code",
   "execution_count": 93,
   "id": "5a0f127c-8998-49da-97f6-19478ef13219",
   "metadata": {},
   "outputs": [
    {
     "name": "stdin",
     "output_type": "stream",
     "text": [
      " 5\n"
     ]
    },
    {
     "name": "stdout",
     "output_type": "stream",
     "text": [
      "        * \n",
      "      *   * \n",
      "    *       * \n",
      "  *           * \n",
      "* * * * * * * * * \n"
     ]
    }
   ],
   "source": [
    "n=int(input())\n",
    "for i in range(1,n+1):\n",
    "    if i==1 or i==n:\n",
    "         for j in range(1,n-i+1):\n",
    "             print(\" \",end=\" \")\n",
    "         for j in range(0,2*i-1):\n",
    "             print(\"*\",end=\" \")\n",
    "         print()\n",
    "    else:\n",
    "        for j in range(1,n-i+1):\n",
    "            print(\" \",end=\" \")\n",
    "        for j in range(0,2*i-1):\n",
    "            if j==0 or j==2*i-2:\n",
    "                print(\"*\",end=\" \")\n",
    "            else:\n",
    "                print(\" \",end=\" \")\n",
    "        print()"
   ]
  },
  {
   "cell_type": "code",
   "execution_count": 94,
   "id": "2309c292-08fa-4ecc-82fa-d0123d788385",
   "metadata": {},
   "outputs": [
    {
     "name": "stdin",
     "output_type": "stream",
     "text": [
      " 5\n"
     ]
    },
    {
     "name": "stdout",
     "output_type": "stream",
     "text": [
      "        * \n",
      "      * * * \n",
      "    * * * * * \n",
      "  * * * * * * * \n",
      "* * * * * * * * * \n",
      "  * * * * * * * \n",
      "    * * * * * \n",
      "      * * * \n",
      "        * \n"
     ]
    }
   ],
   "source": [
    "n=int(input())\n",
    "for i in range(1,n+1):\n",
    "         for j in range(1,n-i+1):\n",
    "             print(\" \",end=\" \")\n",
    "         for j in range(0,2*i-1):\n",
    "             print(\"*\",end=\" \")\n",
    "         print()\n",
    "for i in range(n-1,0,-1):\n",
    "         for j in range(1,n-i+1):\n",
    "             print(\" \",end=\" \")\n",
    "         for j in range(0,2*i-1):\n",
    "             print(\"*\",end=\" \")\n",
    "         print()"
   ]
  },
  {
   "cell_type": "code",
   "execution_count": 95,
   "id": "a2268f85-1392-4f9c-8971-3b7a5b7c84e9",
   "metadata": {},
   "outputs": [
    {
     "name": "stdin",
     "output_type": "stream",
     "text": [
      " 5\n"
     ]
    },
    {
     "name": "stdout",
     "output_type": "stream",
     "text": [
      "        * \n",
      "      *   * \n",
      "    *       * \n",
      "  *           * \n",
      "*               * \n",
      "  *           * \n",
      "    *       * \n",
      "      *   * \n",
      "        * \n"
     ]
    }
   ],
   "source": [
    "n=int(input())\n",
    "for i in range(1,n+1):\n",
    "    if i==1:\n",
    "        for j in range(1,n-i+1):\n",
    "            print(\" \",end=\" \")\n",
    "        for j in range(0,2*i-1):\n",
    "            print(\"*\",end=\" \")\n",
    "        print()\n",
    "    else:\n",
    "        for j in range(1,n-i+1):\n",
    "            print(\" \",end=\" \")\n",
    "        for j in range(0,2*i-1):\n",
    "            if j==0 or j==2*i-2:\n",
    "                print(\"*\",end=\" \")\n",
    "            else:\n",
    "                print(\" \",end=\" \")\n",
    "        print()\n",
    "for i in range(n-1,0,-1):\n",
    "    if i==1:\n",
    "        for j in range(1,n-i+1):\n",
    "            print(\" \",end=\" \")\n",
    "        for j in range(0,2*i-1):\n",
    "            print(\"*\",end=\" \")\n",
    "        print()\n",
    "    else:\n",
    "        for j in range(1,n-i+1):\n",
    "            print(\" \",end=\" \")\n",
    "        for j in range(0,2*i-1):\n",
    "            if j==0 or j==2*i-2:\n",
    "                print(\"*\",end=\" \")\n",
    "            else:\n",
    "                print(\" \",end=\" \")\n",
    "        print()\n",
    "\n",
    "\n"
   ]
  },
  {
   "cell_type": "code",
   "execution_count": 96,
   "id": "f0efbc78-47c8-421a-a17e-7e6e6b269d84",
   "metadata": {},
   "outputs": [
    {
     "name": "stdin",
     "output_type": "stream",
     "text": [
      " 5\n"
     ]
    },
    {
     "name": "stdout",
     "output_type": "stream",
     "text": [
      "        *                 * \n",
      "      * * *             * * * \n",
      "    * * * * *         * * * * * \n",
      "  * * * * * * *     * * * * * * * \n",
      "* * * * * * * * * * * * * * * * * * \n"
     ]
    }
   ],
   "source": [
    "n=int(input())\n",
    "for i in range(1,n+1):\n",
    "         for j in range(1,n-i+1):\n",
    "             print(\" \",end=\" \")\n",
    "         for j in range(0,2*i-1):\n",
    "             print(\"*\",end=\" \")\n",
    "         for j in range(1,(n-i+1)*2):\n",
    "             if j!=(n-i+1)*2-1:\n",
    "                    print(\" \",end=\" \")\n",
    "         for j in range(0,2*i-1):\n",
    "             print(\"*\",end=\" \")\n",
    "         print()"
   ]
  },
  {
   "cell_type": "code",
   "execution_count": null,
   "id": "4b6ad556-bd5a-4194-b25f-2f64c01f98f3",
   "metadata": {},
   "outputs": [],
   "source": [
    "n=int(input())\n",
    "for i in range(1,n+1):\n",
    "         for j in range(1,n-i+1):\n",
    "             print(\" \",end=\" \")\n",
    "         for j in range(0,2*i-1):\n",
    "             print(\"*\",end=\" \")\n",
    "         for j in range(1,(n-i+1)*2):\n",
    "             if j!=(n-i+1)*2-1:\n",
    "                    print(\" \",end=\" \")\n",
    "         for j in range(0,2*i-1):\n",
    "             print(\"*\",end=\" \")\n",
    "         print()\n",
    "for i in range((2*n-1),0,-1):\n",
    "         for j in range(1,(2*n)-i):\n",
    "             print(\" \",end=\" \")\n",
    "         for j in range(0,2*i-1):\n",
    "             print(\"*\",end=\" \")\n",
    "         print()\n"
   ]
  },
  {
   "cell_type": "code",
   "execution_count": 89,
   "id": "99dc5237-93ff-4416-a6ba-0e3adf7d721d",
   "metadata": {},
   "outputs": [
    {
     "ename": "SyntaxError",
     "evalue": "invalid syntax (3092069428.py, line 182)",
     "output_type": "error",
     "traceback": [
      "\u001b[1;36m  Cell \u001b[1;32mIn[89], line 182\u001b[1;36m\u001b[0m\n\u001b[1;33m    if i>m:(largest)  if i<m:(smallest)\u001b[0m\n\u001b[1;37m                            ^\u001b[0m\n\u001b[1;31mSyntaxError\u001b[0m\u001b[1;31m:\u001b[0m invalid syntax\n"
     ]
    }
   ],
   "source": [
    "25.#pattern12\n",
    "\n",
    "\n",
    "\n",
    "26.#pattern13\n",
    "\n",
    "\n",
    "\n",
    "27.#pattern14\n",
    "\n",
    "\n",
    "\n",
    "\n",
    "28.#pattern15\n",
    "\n",
    "29.#pattern16\n",
    "\n",
    "\n",
    "\n",
    "\n",
    "\n",
    "30.#pattern17\n",
    "\n",
    "31.#pattern18\n",
    "n=int(input())\n",
    "for i in range(n):\n",
    "    if i==0 or i==n-1:\n",
    "        for j in range(n):\n",
    "            print(\"*\",end=\" \")\n",
    "        print()\n",
    "    else: \n",
    "        for j in range(n):\n",
    "            if j==0 or j==n-1:\n",
    "                print(\"*\",end=\" \")\n",
    "            else: \n",
    "                print(\" \",end=\" \")\n",
    "        print()\n",
    "for i in range(1,n):\n",
    "    if  i==n-1:\n",
    "        for j in range(n):\n",
    "            print(\"*\",end=\" \")\n",
    "        print()\n",
    "    else: \n",
    "        for j in range(n):\n",
    "            if j==0 or j==n-1:\n",
    "                print(\"*\",end=\" \")\n",
    "            else: \n",
    "                print(\" \",end=\" \")\n",
    "        print()\n",
    "\n",
    "\n",
    "32.#pattern19\n",
    "n=int(input())\n",
    "for i in range(1,2*n):\n",
    "    if i==1 or i==(2*n)//2:\n",
    "        for j in range(n+1):\n",
    "            print(\"*\",end=\" \")\n",
    "        print()\n",
    "    else: \n",
    "        for j in range(n+1):\n",
    "            if j==0 or j==n:\n",
    "                print(\"*\",end=\" \")\n",
    "            else: \n",
    "                print(\" \",end=\" \")\n",
    "        print()\n",
    "\n",
    "\n"
   ]
  },
  {
   "cell_type": "code",
   "execution_count": null,
   "id": "4de4747b-6843-4c2e-a4e3-e02933c2183b",
   "metadata": {},
   "outputs": [],
   "source": []
  }
 ],
 "metadata": {
  "kernelspec": {
   "display_name": "Python 3 (ipykernel)",
   "language": "python",
   "name": "python3"
  },
  "language_info": {
   "codemirror_mode": {
    "name": "ipython",
    "version": 3
   },
   "file_extension": ".py",
   "mimetype": "text/x-python",
   "name": "python",
   "nbconvert_exporter": "python",
   "pygments_lexer": "ipython3",
   "version": "3.12.3"
  }
 },
 "nbformat": 4,
 "nbformat_minor": 5
}
