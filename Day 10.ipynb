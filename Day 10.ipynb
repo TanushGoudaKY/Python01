{
 "cells": [
  {
   "cell_type": "code",
   "execution_count": 18,
   "id": "ddce18d9-43d1-4bd8-a39b-341bd9f4cfc7",
   "metadata": {},
   "outputs": [
    {
     "name": "stdin",
     "output_type": "stream",
     "text": [
      "Enter the Number:  3\n"
     ]
    },
    {
     "name": "stdout",
     "output_type": "stream",
     "text": [
      "3 * 1 = 3\n",
      "3 * 2 = 6\n",
      "3 * 3 = 9\n",
      "3 * 4 = 12\n",
      "3 * 5 = 15\n",
      "3 * 6 = 18\n",
      "3 * 7 = 21\n",
      "3 * 8 = 24\n",
      "3 * 9 = 27\n",
      "3 * 10 = 30\n"
     ]
    }
   ],
   "source": [
    "\n",
    "def mul(i):\n",
    "    x=1\n",
    "    while x<=10:\n",
    "        print(i,\"*\",x,\"=\",i*x)\n",
    "        x=x+1\n",
    "\n",
    "e=int(input(\"Enter the Number: \"))\n",
    "mul(e)"
   ]
  },
  {
   "cell_type": "code",
   "execution_count": 54,
   "id": "d9f55d93-ef07-40b0-be1c-80c2ffef5349",
   "metadata": {},
   "outputs": [
    {
     "name": "stdout",
     "output_type": "stream",
     "text": [
      "5\n",
      "10\n",
      "15\n",
      "20\n",
      "25\n",
      "30\n",
      "35\n",
      "40\n",
      "45\n",
      "50\n"
     ]
    }
   ],
   "source": [
    "#Recursion function\n",
    "def fun(i,n):\n",
    "    if i==11:\n",
    "        return\n",
    "    print(i*n)\n",
    "    i=i+1\n",
    "    fun(i,n)\n",
    "    return\n",
    "\n",
    "fun(1,5)"
   ]
  },
  {
   "cell_type": "code",
   "execution_count": 52,
   "id": "e6a82600-ee13-40b9-96fb-5d839a202917",
   "metadata": {},
   "outputs": [
    {
     "name": "stdin",
     "output_type": "stream",
     "text": [
      "Enter the number:  6\n"
     ]
    },
    {
     "name": "stdout",
     "output_type": "stream",
     "text": [
      "720\n"
     ]
    }
   ],
   "source": [
    "n=int(input(\"Enter the number: \"))\n",
    "E=1\n",
    "for i in range(n,0,-1):\n",
    "    E=E*i\n",
    "print(E)"
   ]
  },
  {
   "cell_type": "code",
   "execution_count": 92,
   "id": "1619bef4-3f4c-4f05-bc00-037b89ce4e36",
   "metadata": {},
   "outputs": [
    {
     "name": "stdin",
     "output_type": "stream",
     "text": [
      "Enter the Number :  5\n"
     ]
    },
    {
     "name": "stdout",
     "output_type": "stream",
     "text": [
      "Factorial of 5 is :   120\n"
     ]
    }
   ],
   "source": [
    "n=int(input(\"Enter the Number : \"))\n",
    "e=1\n",
    "def fact(i):\n",
    "    if i==1:\n",
    "        return 1\n",
    "    return(i*fact(i-1))\n",
    "\n",
    "fun=fact(n)\n",
    "print(\"Factorial of\",n,\"is :  \",fun)\n",
    "       \n",
    "\n",
    "    "
   ]
  },
  {
   "cell_type": "code",
   "execution_count": 123,
   "id": "1b7c1e30-51a2-458a-bc33-840b214715b3",
   "metadata": {},
   "outputs": [
    {
     "name": "stdin",
     "output_type": "stream",
     "text": [
      "ENter the limit:  5\n"
     ]
    },
    {
     "name": "stdout",
     "output_type": "stream",
     "text": [
      "0 1 "
     ]
    },
    {
     "ename": "UnboundLocalError",
     "evalue": "cannot access local variable 'a' where it is not associated with a value",
     "output_type": "error",
     "traceback": [
      "\u001b[1;31m---------------------------------------------------------------------------\u001b[0m",
      "\u001b[1;31mUnboundLocalError\u001b[0m                         Traceback (most recent call last)",
      "Cell \u001b[1;32mIn[123], line 11\u001b[0m\n\u001b[0;32m      8\u001b[0m     a\u001b[38;5;241m=\u001b[39mb\n\u001b[0;32m      9\u001b[0m     b\u001b[38;5;241m=\u001b[39mc\n\u001b[1;32m---> 11\u001b[0m \u001b[43mfib\u001b[49m\u001b[43m(\u001b[49m\u001b[43mn\u001b[49m\u001b[43m)\u001b[49m    \n",
      "Cell \u001b[1;32mIn[123], line 6\u001b[0m, in \u001b[0;36mfib\u001b[1;34m(i)\u001b[0m\n\u001b[0;32m      5\u001b[0m \u001b[38;5;28;01mdef\u001b[39;00m \u001b[38;5;21mfib\u001b[39m(i):\n\u001b[1;32m----> 6\u001b[0m     c\u001b[38;5;241m=\u001b[39m\u001b[43ma\u001b[49m\u001b[38;5;241m+\u001b[39mb\n\u001b[0;32m      7\u001b[0m     \u001b[38;5;28mprint\u001b[39m(c)\n\u001b[0;32m      8\u001b[0m     a\u001b[38;5;241m=\u001b[39mb\n",
      "\u001b[1;31mUnboundLocalError\u001b[0m: cannot access local variable 'a' where it is not associated with a value"
     ]
    }
   ],
   "source": [
    "n=int(input(\"ENter the limit: \"))\n",
    "a=0\n",
    "b=1\n",
    "print(a,b,end=\" \")\n",
    "def fib(i):\n",
    "    \n",
    "fib(n)    \n",
    "        "
   ]
  },
  {
   "cell_type": "code",
   "execution_count": 124,
   "id": "04778b4d-db31-45e8-9432-ef836e217bf9",
   "metadata": {},
   "outputs": [
    {
     "name": "stdin",
     "output_type": "stream",
     "text": [
      "Enter the Limit:  10\n"
     ]
    },
    {
     "name": "stdout",
     "output_type": "stream",
     "text": [
      "0 1 1 2 3 5 8 13 21 34 "
     ]
    }
   ],
   "source": [
    "a=0\n",
    "b=1\n",
    "n=int(input(\"Enter the Limit: \"))\n",
    "print(a,b,end=\" \")\n",
    "for i in range(0,n-2):\n",
    "    c=a+b\n",
    "    a=b\n",
    "    b=c\n",
    "    print(c,end=\" \")\n",
    "    "
   ]
  },
  {
   "cell_type": "raw",
   "id": "21833d38-7884-46d8-9a82-3606cd2d2e8e",
   "metadata": {},
   "source": [
    "#The key process in QuickSort is the Partition() function.\n",
    "Given an array and a pivot element x, the goal is to put x at its correct position in a sorted array.\n",
    ">All smaller elements (less than x) should be placed before x,and all greater elements( greater than x) should come after x.\n",
    ">this partitioning step should be done in linear time."
   ]
  },
  {
   "cell_type": "code",
   "execution_count": 135,
   "id": "08be1875-4c1c-41f3-b62d-56edb61d00f2",
   "metadata": {},
   "outputs": [
    {
     "name": "stdout",
     "output_type": "stream",
     "text": [
      "[3, 5, 7, 2, 8, 4, 9, 1]\n",
      "[1, 5, 7, 2, 8, 4, 9, 3]\n",
      "[1, 2, 3, 5, 8, 4, 9, 7]\n",
      "[1, 2, 3, 5, 4, 7, 9, 8]\n",
      "[1, 2, 3, 4, 5, 7, 9, 8]\n",
      "[1, 2, 3, 4, 5, 7, 8, 9]\n"
     ]
    }
   ],
   "source": [
    "def findpi(ar,l,h):\n",
    "    pe=ar[h]\n",
    "    j=l-1\n",
    "    for i in range(l,h):\n",
    "        if pe>ar[i]:\n",
    "            j+=1\n",
    "            ar[i],ar[j]=ar[j],ar[i]\n",
    "    ar[h],ar[j+1]=ar[j+1],ar[h]\n",
    "    return j+1\n",
    "\n",
    "def quicksort(ar,l,h):\n",
    "    if l<h:\n",
    "        print(ar)\n",
    "        pe=findpi(ar,l,h)\n",
    "        quicksort(ar,l,pe-1)\n",
    "        quicksort(ar,pe+1,h)\n",
    "\n",
    "ar=[3,5,7,2,8,4,9,1]\n",
    "quicksort(ar,0,len(ar)-1)\n",
    "print(ar)\n"
   ]
  },
  {
   "cell_type": "code",
   "execution_count": 2,
   "id": "6e2dc9a6-d4a2-44ae-979d-425a12d5e1f6",
   "metadata": {},
   "outputs": [
    {
     "name": "stdout",
     "output_type": "stream",
     "text": [
      "node 1 <__main__.node object at 0x000001CB91FEC5C0> ---> 1\n",
      "node 2 <__main__.node object at 0x000001CB91FEFDD0> ---> 2\n",
      "node 3 <__main__.node object at 0x000001CB91FEFA70> ---> 3\n",
      "node 4 <__main__.node object at 0x000001CB91FEECC0> ---> 4\n"
     ]
    }
   ],
   "source": [
    "class node:\n",
    "    def __init__(self,d):\n",
    "        self.data=d\n",
    "        self.next=None\n",
    "head=node(1)\n",
    "head.next=node(2)\n",
    "head.next.next=node(3)\n",
    "head.next.next.next=node(4)\n",
    "\n",
    "print(\"node 1\",head,\"--->\",head.data)\n",
    "print(\"node 2\",head.next,\"--->\",head.next.data)\n",
    "print(\"node 3\",head.next.next,\"--->\",head.next.next.data)\n",
    "print(\"node 4\",head.next.next.next,\"--->\",head.next.next.next.data)"
   ]
  },
  {
   "cell_type": "code",
   "execution_count": 3,
   "id": "4560d3bd-f876-47c7-a46e-732f9bbe3421",
   "metadata": {},
   "outputs": [
    {
     "name": "stdout",
     "output_type": "stream",
     "text": [
      "node 1 <__main__.node object at 0x000001CB91FEF290> ---> apple\n",
      "node 2 <__main__.node object at 0x000001CB91FECEF0> ---> book\n",
      "node 3 <__main__.node object at 0x000001CB91FEFEF0> ---> cat\n",
      "node 4 <__main__.node object at 0x000001CB91FEC0E0> ---> bird\n"
     ]
    }
   ],
   "source": [
    "#linked list\n",
    "class node:\n",
    "    def __init__(self,d):\n",
    "        self.data=d\n",
    "        self.next=None\n",
    "\n",
    "a=node(\"apple\")\n",
    "b=node(\"book\")\n",
    "c=node(\"cat\")\n",
    "d=node(\"bird\")\n",
    "\n",
    "head=a\n",
    "head.next=b\n",
    "head.next.next=c\n",
    "head.next.next.next=d\n",
    "\n",
    "print(\"node 1\",head,\"--->\",head.data)\n",
    "print(\"node 2\",head.next,\"--->\",head.next.data)\n",
    "print(\"node 3\",head.next.next,\"--->\",head.next.next.data)\n",
    "print(\"node 4\",head.next.next.next,\"--->\",head.next.next.next.data)"
   ]
  },
  {
   "cell_type": "code",
   "execution_count": null,
   "id": "4699a58a-d5ed-43b5-a132-03169bea79f9",
   "metadata": {},
   "outputs": [],
   "source": []
  }
 ],
 "metadata": {
  "kernelspec": {
   "display_name": "Python 3 (ipykernel)",
   "language": "python",
   "name": "python3"
  },
  "language_info": {
   "codemirror_mode": {
    "name": "ipython",
    "version": 3
   },
   "file_extension": ".py",
   "mimetype": "text/x-python",
   "name": "python",
   "nbconvert_exporter": "python",
   "pygments_lexer": "ipython3",
   "version": "3.12.3"
  }
 },
 "nbformat": 4,
 "nbformat_minor": 5
}
