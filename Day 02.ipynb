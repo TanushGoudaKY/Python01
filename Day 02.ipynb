{
 "cells": [
  {
   "cell_type": "code",
   "execution_count": 5,
   "id": "9d2d3c8e-b3d3-44ff-8431-b239f6f92c5f",
   "metadata": {},
   "outputs": [
    {
     "name": "stdin",
     "output_type": "stream",
     "text": [
      "enter the name of the candidate :  Tanush Gouda K Y \n",
      "Enter the Age :  19\n"
     ]
    },
    {
     "name": "stdout",
     "output_type": "stream",
     "text": [
      "Tanush Gouda K Y \n",
      "19\n",
      "You are Eligible to vote\n"
     ]
    }
   ],
   "source": [
    "Name=input(\"enter the name of the candidate : \")\n",
    "Age=int(input(\"Enter the Age : \"))\n",
    "\n",
    "if Age>=18:\n",
    "    print(Name)\n",
    "    print(Age)\n",
    "    print(\"You are Eligible to vote\")\n",
    "else:\n",
    "    print(Name)\n",
    "    print(Age)\n",
    "    print(\"You are not Eligible to vote\")"
   ]
  },
  {
   "cell_type": "code",
   "execution_count": 8,
   "id": "0b3748db-6936-45a6-8b94-74fb0e4c5735",
   "metadata": {},
   "outputs": [
    {
     "name": "stdin",
     "output_type": "stream",
     "text": [
      "Enter the Account Number :  1654354\n",
      "Enter the pin code :  1644\n",
      "Enter the Balance:  1544642\n"
     ]
    },
    {
     "name": "stdout",
     "output_type": "stream",
     "text": [
      "You are Eligible For the Loan Sanction\n"
     ]
    }
   ],
   "source": [
    "Acc_No=int(input(\"Enter the Account Number : \"))\n",
    "Pincode=int(input(\"Enter the pin code : \"))\n",
    "Balance=int(input(\"Enter the Balance: \"))\n",
    "if Balance>=10000:\n",
    "    print(\"You are Eligible For the Loan Sanction\")\n",
    "else:\n",
    "    print(\"not eligible\")"
   ]
  },
  {
   "cell_type": "code",
   "execution_count": 13,
   "id": "e9fa22e5-bfaf-4756-a9cf-9e394f7b0d5f",
   "metadata": {},
   "outputs": [
    {
     "name": "stdin",
     "output_type": "stream",
     "text": [
      "A =  8\n",
      "B =  9\n",
      "C =  5\n",
      "D =  2\n"
     ]
    },
    {
     "name": "stdout",
     "output_type": "stream",
     "text": [
      "B is the largest\n"
     ]
    }
   ],
   "source": [
    "a=int(input(\"A = \"))\n",
    "b=int(input(\"B = \"))\n",
    "c=int(input(\"C = \"))\n",
    "d=int(input(\"D = \"))\n",
    "\n",
    "if a>b:\n",
    "    if a>c:\n",
    "        if a>d:\n",
    "            print(\"A is the largest\")\n",
    "        else:\n",
    "            print(\"D is the largest\")\n",
    "    else:\n",
    "        if c>d:\n",
    "            print(\"C is the largest\")\n",
    "        else:\n",
    "            print(\"D is the largest\")\n",
    "else:\n",
    "    if b>c:\n",
    "        if b>d:\n",
    "            print(\"B is the largest\")\n",
    "        else:\n",
    "            print(\"D is the largest\")\n",
    "    else:\n",
    "        if c>d:\n",
    "            print(\"C is the largest\")\n",
    "        else:\n",
    "            print(\"D is the largest\")\n",
    "            "
   ]
  },
  {
   "cell_type": "code",
   "execution_count": 20,
   "id": "26651988-e0cc-4854-a0b5-852fad6d9709",
   "metadata": {},
   "outputs": [
    {
     "name": "stdin",
     "output_type": "stream",
     "text": [
      "Enter the marks:  100\n"
     ]
    },
    {
     "name": "stdout",
     "output_type": "stream",
     "text": [
      "A+\n"
     ]
    }
   ],
   "source": [
    "marks=int(input(\"Enter the marks: \"))\n",
    "if marks>90 and marks<=100:\n",
    "    print(\"A+\")\n",
    "if marks>80 and marks<=90:\n",
    "    print(\"A\")\n",
    "if marks>70 and marks<=80:\n",
    "    print(\"B+\")\n",
    "if marks>60 and marks<=70:\n",
    "    print(\"B\")\n",
    "if marks>50 and marks<=60:\n",
    "    print(\"C\")\n",
    "if marks>40 and marks<=50:\n",
    "    print(\"D\")\n",
    "if marks>30 and marks<=40:\n",
    "    print(\"E\")\n",
    "if marks>=0 and marks<=30:\n",
    "    print(\"F\")\n",
    "\n",
    "     "
   ]
  },
  {
   "cell_type": "code",
   "execution_count": 28,
   "id": "7a3ab661-66e4-4675-8eaf-9803f11297e6",
   "metadata": {},
   "outputs": [
    {
     "name": "stdin",
     "output_type": "stream",
     "text": [
      "Enter the marks:  12345\n"
     ]
    },
    {
     "name": "stdout",
     "output_type": "stream",
     "text": [
      "Invalid marks\n"
     ]
    }
   ],
   "source": [
    "marks=int(input(\"Enter the marks: \"))\n",
    "if marks>90 and marks<=100:\n",
    "    print(\"A+\")\n",
    "elif marks>80 and marks<=90:\n",
    "    print(\"A\")\n",
    "elif marks>70 and marks<=80:\n",
    "    print(\"B+\")\n",
    "elif marks>60 and marks<=70:\n",
    "    print(\"B\")\n",
    "elif marks>50 and marks<=60:\n",
    "    print(\"C\")\n",
    "elif marks>40 and marks<=50:\n",
    "    print(\"D\")\n",
    "elif marks>30 and marks<=40:\n",
    "    print(\"E\")\n",
    "elif marks>=0 and marks<=30:\n",
    "    print(\"F\")\n",
    "else:\n",
    "    print(\"Invalid marks\")"
   ]
  },
  {
   "cell_type": "code",
   "execution_count": 33,
   "id": "25650d45-5078-4847-83d9-0d2b251209c4",
   "metadata": {},
   "outputs": [
    {
     "name": "stdin",
     "output_type": "stream",
     "text": [
      "Enter the Day number:  5\n"
     ]
    },
    {
     "name": "stdout",
     "output_type": "stream",
     "text": [
      "THURSDAY\n"
     ]
    }
   ],
   "source": [
    "Day=int(input(\"Enter the Day number: \"))\n",
    "match Day:\n",
    "    case 1: print(\"SUNDAY\")\n",
    "    case 2: print(\"MONDAY\")\n",
    "    case 3: print(\"TUESDAY\")\n",
    "    case 4: print(\"WEDNESDAY\")\n",
    "    case 5: print(\"THURSDAY\")\n",
    "    case 6: print(\"FRIDAY\")\n",
    "    case 7: print(\"SATURDAY\")\n",
    "    case _: print(\"INVALID ENTRY\")"
   ]
  },
  {
   "cell_type": "code",
   "execution_count": 59,
   "id": "e6e33236-329f-41dd-ab64-1dcbf70e3364",
   "metadata": {},
   "outputs": [
    {
     "name": "stdout",
     "output_type": "stream",
     "text": [
      " *\n",
      " * *\n",
      " * * *\n",
      " * * * *\n",
      " * * * * *\n",
      " * * * * * *\n",
      " * * * * * * *\n",
      " * * * * * * * *\n",
      " * * * * * * * * *\n",
      " * * * * * * * * * *\n"
     ]
    }
   ],
   "source": [
    "for x in range(0,10):\n",
    "    print(' *'*(x+1))\n"
   ]
  },
  {
   "cell_type": "code",
   "execution_count": 86,
   "id": "39e8887b-9f2d-4ef5-a346-b457a8a925d1",
   "metadata": {
    "scrolled": true
   },
   "outputs": [
    {
     "name": "stdout",
     "output_type": "stream",
     "text": [
      "* \n",
      "* * \n",
      "* * * \n",
      "* * * * \n",
      "* * * * * \n",
      "* * * * * * \n",
      "* * * * * * * \n",
      "* * * * * * * * \n",
      "* * * * * * * * * \n",
      "* * * * * * * * * * \n"
     ]
    }
   ],
   "source": [
    "for x in range(0,10):\n",
    "    for y in range(0,x+1):\n",
    "        print(\"*\",end=\" \")\n",
    "    print()\n"
   ]
  },
  {
   "cell_type": "code",
   "execution_count": 114,
   "id": "668e5d4f-9223-48f8-aeb7-469b988e249e",
   "metadata": {},
   "outputs": [
    {
     "name": "stdin",
     "output_type": "stream",
     "text": [
      "Enter the limit :  6\n"
     ]
    },
    {
     "name": "stdout",
     "output_type": "stream",
     "text": [
      "0 1 3 5 4 7 6 5 9 8 7 6 "
     ]
    }
   ],
   "source": [
    "N=int(input(\"Enter the limit : \"))\n",
    "for i in range(0,N):\n",
    "    if i==0 or i==1:\n",
    "        print(i,end=\" \")\n",
    "    else:\n",
    "        print(S,end=\" \")\n"
   ]
  },
  {
   "cell_type": "code",
   "execution_count": 125,
   "id": "e5e05cf5-7d2a-43e0-badf-295ead5ba12f",
   "metadata": {},
   "outputs": [
    {
     "name": "stdin",
     "output_type": "stream",
     "text": [
      "enter the limit of the series:  8\n"
     ]
    },
    {
     "name": "stdout",
     "output_type": "stream",
     "text": [
      "0 1 1 2 3 5 8 13 "
     ]
    }
   ],
   "source": [
    "a=0\n",
    "b=1\n",
    "n=int(input(\"enter the limit of the series: \"))\n",
    "print(a,b,end=\" \")\n",
    "for x in range(0,n-2):\n",
    "    c=a+b\n",
    "    a=b\n",
    "    b=c\n",
    "    print(c,end=\" \")\n",
    "    \n"
   ]
  },
  {
   "cell_type": "code",
   "execution_count": 1,
   "id": "3e2c7c6b-be45-45af-9c26-32d1a2ae8055",
   "metadata": {},
   "outputs": [
    {
     "name": "stdin",
     "output_type": "stream",
     "text": [
      "Enter the number :  5\n"
     ]
    },
    {
     "ename": "NameError",
     "evalue": "name 'i' is not defined",
     "output_type": "error",
     "traceback": [
      "\u001b[1;31m---------------------------------------------------------------------------\u001b[0m",
      "\u001b[1;31mNameError\u001b[0m                                 Traceback (most recent call last)",
      "Cell \u001b[1;32mIn[1], line 2\u001b[0m\n\u001b[0;32m      1\u001b[0m n\u001b[38;5;241m=\u001b[39m\u001b[38;5;28mint\u001b[39m(\u001b[38;5;28minput\u001b[39m(\u001b[38;5;124m\"\u001b[39m\u001b[38;5;124mEnter the number : \u001b[39m\u001b[38;5;124m\"\u001b[39m))\n\u001b[1;32m----> 2\u001b[0m \u001b[38;5;28;01mwhile\u001b[39;00m(\u001b[43mi\u001b[49m\u001b[38;5;241m==\u001b[39mn):\n\u001b[0;32m      3\u001b[0m     i\u001b[38;5;241m=\u001b[39mi\u001b[38;5;241m*\u001b[39m(i\u001b[38;5;241m-\u001b[39m\u001b[38;5;241m1\u001b[39m)\n\u001b[0;32m      4\u001b[0m     \u001b[38;5;28mprint\u001b[39m(f)\n",
      "\u001b[1;31mNameError\u001b[0m: name 'i' is not defined"
     ]
    }
   ],
   "source": [
    "n=int(input(\"Enter the number : \"))\n",
    " "
   ]
  },
  {
   "cell_type": "code",
   "execution_count": null,
   "id": "ae3f4be2-abcb-4956-87dd-aca7ab805443",
   "metadata": {},
   "outputs": [],
   "source": []
  },
  {
   "cell_type": "code",
   "execution_count": 7,
   "id": "a30827c7-6888-4293-b284-079f2b2f29f3",
   "metadata": {},
   "outputs": [
    {
     "name": "stdin",
     "output_type": "stream",
     "text": [
      " 2\n",
      " 6\n"
     ]
    },
    {
     "name": "stdout",
     "output_type": "stream",
     "text": [
      "8\n",
      "12\n"
     ]
    }
   ],
   "source": [
    "#  functions FUNCTIONS\n",
    "\n",
    "def abcd(a,b=10):\n",
    "    c=a+b\n",
    "    print(c)\n",
    "    return\n",
    "\n",
    "A=int(input())\n",
    "B=int(input())\n",
    "\n",
    "#print(abcd(A,B))\n",
    "abcd(A,B)\n",
    "abcd(A)\n"
   ]
  },
  {
   "cell_type": "code",
   "execution_count": null,
   "id": "f0d07e9b-fe20-4c6b-8024-e0bb5c1530e1",
   "metadata": {},
   "outputs": [],
   "source": []
  }
 ],
 "metadata": {
  "kernelspec": {
   "display_name": "Python 3 (ipykernel)",
   "language": "python",
   "name": "python3"
  },
  "language_info": {
   "codemirror_mode": {
    "name": "ipython",
    "version": 3
   },
   "file_extension": ".py",
   "mimetype": "text/x-python",
   "name": "python",
   "nbconvert_exporter": "python",
   "pygments_lexer": "ipython3",
   "version": "3.12.3"
  }
 },
 "nbformat": 4,
 "nbformat_minor": 5
}
