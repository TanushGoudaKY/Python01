{
 "cells": [
  {
   "cell_type": "code",
   "execution_count": 1,
   "id": "cfc95deb-2c9c-4799-855d-b863e4994adb",
   "metadata": {},
   "outputs": [
    {
     "name": "stdout",
     "output_type": "stream",
     "text": [
      "1 \n",
      "2 \n",
      "4 \n"
     ]
    },
    {
     "ename": "IndexError",
     "evalue": "pop from empty list",
     "output_type": "error",
     "traceback": [
      "\u001b[1;31m---------------------------------------------------------------------------\u001b[0m",
      "\u001b[1;31mIndexError\u001b[0m                                Traceback (most recent call last)",
      "Cell \u001b[1;32mIn[1], line 38\u001b[0m\n\u001b[0;32m     35\u001b[0m root\u001b[38;5;241m.\u001b[39mright\u001b[38;5;241m.\u001b[39mleft\u001b[38;5;241m=\u001b[39mnode(\u001b[38;5;241m6\u001b[39m)\n\u001b[0;32m     36\u001b[0m root\u001b[38;5;241m.\u001b[39mright\u001b[38;5;241m.\u001b[39mright\u001b[38;5;241m=\u001b[39mnode(\u001b[38;5;241m7\u001b[39m)\n\u001b[1;32m---> 38\u001b[0m \u001b[38;5;28mprint\u001b[39m(\u001b[43mlevelorder\u001b[49m\u001b[43m(\u001b[49m\u001b[43mroot\u001b[49m\u001b[43m)\u001b[49m)\n",
      "Cell \u001b[1;32mIn[1], line 17\u001b[0m, in \u001b[0;36mlevelorder\u001b[1;34m(root)\u001b[0m\n\u001b[0;32m     15\u001b[0m \u001b[38;5;28;01mif\u001b[39;00m curr\u001b[38;5;241m==\u001b[39m\u001b[38;5;28;01mNone\u001b[39;00m:\n\u001b[0;32m     16\u001b[0m     \u001b[38;5;28mprint\u001b[39m()\n\u001b[1;32m---> 17\u001b[0m     l\u001b[38;5;241m=\u001b[39m\u001b[43mQ\u001b[49m\u001b[38;5;241;43m.\u001b[39;49m\u001b[43mpop\u001b[49m\u001b[43m(\u001b[49m\u001b[43m)\u001b[49m\n\u001b[0;32m     18\u001b[0m     \u001b[38;5;28;01mif\u001b[39;00m Q:\n\u001b[0;32m     19\u001b[0m         Q\u001b[38;5;241m.\u001b[39mappend(curr)\n",
      "\u001b[1;31mIndexError\u001b[0m: pop from empty list"
     ]
    }
   ],
   "source": [
    "#tree non liner data structure\n",
    "class node:\n",
    "    def __init__(self,value):\n",
    "        self.data=value\n",
    "        self.left=None\n",
    "        self.right=None\n",
    "\n",
    "\n",
    "#level order traversing\n",
    "def levelorder(root):\n",
    "    Q=[root,None]\n",
    "    l=[]\n",
    "    while Q:\n",
    "        curr=Q.pop(0)\n",
    "        if curr==None:\n",
    "            print()\n",
    "            l=Q.pop()\n",
    "            if Q:\n",
    "                Q.append(curr)\n",
    "        else:\n",
    "            print(curr.data,end=\" \")\n",
    "            if curr.left!=None:\n",
    "                Q.append(curr.left)\n",
    "            if curr.right!=None:\n",
    "                Q.append(curr.right)\n",
    "\n",
    "\n",
    "root=node(1)\n",
    "root.left=node(2)\n",
    "root.right=node(3)\n",
    "\n",
    "root.left.left=node(4)\n",
    "root.left.right=node(5)\n",
    "\n",
    "root.right.left=node(6)\n",
    "root.right.right=node(7)\n",
    "\n",
    "print(levelorder(root))"
   ]
  },
  {
   "cell_type": "code",
   "execution_count": null,
   "id": "1d2584cb-26bd-48f0-8d38-06b4e5105ac2",
   "metadata": {},
   "outputs": [],
   "source": []
  }
 ],
 "metadata": {
  "kernelspec": {
   "display_name": "Python 3 (ipykernel)",
   "language": "python",
   "name": "python3"
  },
  "language_info": {
   "codemirror_mode": {
    "name": "ipython",
    "version": 3
   },
   "file_extension": ".py",
   "mimetype": "text/x-python",
   "name": "python",
   "nbconvert_exporter": "python",
   "pygments_lexer": "ipython3",
   "version": "3.12.3"
  }
 },
 "nbformat": 4,
 "nbformat_minor": 5
}
