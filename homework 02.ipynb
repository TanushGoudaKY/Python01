{
 "cells": [
  {
   "cell_type": "code",
   "execution_count": 3,
   "id": "608f5a88-bceb-47aa-96f5-f4b7c3699d61",
   "metadata": {},
   "outputs": [
    {
     "name": "stdin",
     "output_type": "stream",
     "text": [
      "Enter the Temperature in Celsius:  37\n"
     ]
    },
    {
     "name": "stdout",
     "output_type": "stream",
     "text": [
      "The Given Temperature in Fahrenhiet: 98.60000000000001\n"
     ]
    }
   ],
   "source": [
    "#program to Convert Temperature from Celsius to Fahrenhiet\n",
    "Cel=int(input(\"Enter the Temperature in Celsius: \"))\n",
    "fah=(Cel*1.8)+32\n",
    "print(\"The Given Temperature in Fahrenhiet:\",fah)"
   ]
  },
  {
   "cell_type": "code",
   "execution_count": 17,
   "id": "94733810-16ef-4410-8c92-2fabe0a72062",
   "metadata": {},
   "outputs": [
    {
     "name": "stdin",
     "output_type": "stream",
     "text": [
      "Enter the size:  4\n"
     ]
    },
    {
     "name": "stdout",
     "output_type": "stream",
     "text": [
      "Enter the elements: \n"
     ]
    },
    {
     "name": "stdin",
     "output_type": "stream",
     "text": [
      " 12\n",
      " 85\n",
      " 13\n",
      " 96\n"
     ]
    },
    {
     "name": "stdout",
     "output_type": "stream",
     "text": [
      "The Second Largest: 85\n"
     ]
    }
   ],
   "source": [
    "#program to find Second largest Number\n",
    "d=[]\n",
    "n=int(input(\"Enter the size: \"))\n",
    "print(\"Enter the elements: \")\n",
    "for i in range(0,n):\n",
    "    a=int(input())\n",
    "    d.append(a)\n",
    "\n",
    "d.sort()\n",
    "print(\"The Second Largest:\",end=\" \")\n",
    "print(d[-2])"
   ]
  },
  {
   "cell_type": "code",
   "execution_count": 5,
   "id": "2e753e0d-3e12-48cb-b639-34a61d3f05a1",
   "metadata": {},
   "outputs": [
    {
     "name": "stdin",
     "output_type": "stream",
     "text": [
      " 54\n",
      " 54\n",
      " 54\n",
      " 54\n",
      " Tanush\n",
      " Tanush\n",
      " Tanush\n",
      " Tanush\n",
      " Tanush\n",
      " 58\n",
      " 23\n",
      " 85\n",
      " 85\n",
      " 85\n",
      " 23\n",
      " 89\n",
      " 75\n",
      " 75\n",
      " 75\n",
      " 75\n"
     ]
    },
    {
     "name": "stdout",
     "output_type": "stream",
     "text": [
      "{'54': 4, 'Tanush': 5, '58': 1, '23': 2, '85': 3, '89': 1, '75': 4}\n"
     ]
    }
   ],
   "source": [
    "#program for Counting occurences of each element in the list\n",
    "o=[]\n",
    "for i in range(0,20):\n",
    "    a=input()\n",
    "    o.append(a)\n",
    "    \n",
    "d={}\n",
    "for i in o:\n",
    "    if i not in d:\n",
    "        d[i]=o.count(i)\n",
    "print(d)\n",
    "   "
   ]
  },
  {
   "cell_type": "code",
   "execution_count": 2,
   "id": "5c605ce3-6ebc-4cd1-b2cb-b35c7a62bbf2",
   "metadata": {},
   "outputs": [
    {
     "name": "stdin",
     "output_type": "stream",
     "text": [
      "Enter the Size of the List:  5\n"
     ]
    },
    {
     "name": "stdout",
     "output_type": "stream",
     "text": [
      "Enter the elements of the list: \n"
     ]
    },
    {
     "name": "stdin",
     "output_type": "stream",
     "text": [
      " 12\n",
      " 23\n",
      " 84\n",
      " 51\n",
      " 4\n"
     ]
    },
    {
     "name": "stdout",
     "output_type": "stream",
     "text": [
      "[12, 23, 84, 51, 4]\n",
      "the Sum of all the even numbers in the list :  100\n"
     ]
    }
   ],
   "source": [
    "#Find the sum of all even numbers in a list.\n",
    "d=[]\n",
    "n=int(input(\"Enter the Size of the List: \"))\n",
    "print(\"Enter the elements of the list: \")\n",
    "for i in range(0,n):\n",
    "    a=int(input())\n",
    "    d.append(a)\n",
    "    \n",
    "print(d)\n",
    "sum=0\n",
    "for i in range(0,n):\n",
    "    if((d[i]%2)==0):\n",
    "        sum+=d[i]\n",
    "\n",
    "print(\"the Sum of all the even numbers in the list :\",end=\"  \")\n",
    "print(sum)"
   ]
  },
  {
   "cell_type": "code",
   "execution_count": 6,
   "id": "8fe5f681-c71e-4306-a953-a7c0e19f7eef",
   "metadata": {},
   "outputs": [
    {
     "name": "stdin",
     "output_type": "stream",
     "text": [
      "Enter a Word TanusT\n"
     ]
    },
    {
     "name": "stdout",
     "output_type": "stream",
     "text": [
      "TsunaT\n"
     ]
    }
   ],
   "source": [
    "#program to Reverse the words in a given sentence.\n",
    "f=input(\"Enter a Word\")\n",
    "a=f[::-1]\n",
    "print(a)"
   ]
  },
  {
   "cell_type": "code",
   "execution_count": 9,
   "id": "1cbe638c-927f-4853-8616-8c0d6ca17301",
   "metadata": {},
   "outputs": [
    {
     "name": "stdin",
     "output_type": "stream",
     "text": [
      "Enter a word:  tanush\n"
     ]
    },
    {
     "name": "stdout",
     "output_type": "stream",
     "text": [
      "2\n"
     ]
    }
   ],
   "source": [
    "#Count the number of vowels in a string\n",
    "n=input(\"Enter a word: \")\n",
    "count=0\n",
    "for i in n:\n",
    "    if i=='a' or i=='e' or i=='i' or i=='o' or i=='u':\n",
    "        count+=1\n",
    "\n",
    "print(count)\n",
    "        "
   ]
  },
  {
   "cell_type": "code",
   "execution_count": null,
   "id": "8484f6f5-b9a8-4dae-a388-a28c1d829a5c",
   "metadata": {},
   "outputs": [],
   "source": []
  }
 ],
 "metadata": {
  "kernelspec": {
   "display_name": "Python 3 (ipykernel)",
   "language": "python",
   "name": "python3"
  },
  "language_info": {
   "codemirror_mode": {
    "name": "ipython",
    "version": 3
   },
   "file_extension": ".py",
   "mimetype": "text/x-python",
   "name": "python",
   "nbconvert_exporter": "python",
   "pygments_lexer": "ipython3",
   "version": "3.12.3"
  }
 },
 "nbformat": 4,
 "nbformat_minor": 5
}
