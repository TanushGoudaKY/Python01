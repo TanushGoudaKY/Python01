{
 "cells": [
  {
   "cell_type": "code",
   "execution_count": 15,
   "id": "754b8edd-1b41-4956-b27a-f632547c34e4",
   "metadata": {},
   "outputs": [
    {
     "name": "stdout",
     "output_type": "stream",
     "text": [
      "['J', 'I', 'H', 'G', 'F', 'E', 'D', 'C', 'B', 'A']\n"
     ]
    }
   ],
   "source": [
    "#Reversing a string using Stack\n",
    "S=[\"A\",\"B\",\"C\",\"D\",\"E\",\"F\",\"G\",\"H\",\"I\",\"J\"]\n",
    "s=[]\n",
    "for i in range(0,len(S),1):\n",
    "    a=S.pop()\n",
    "    s.append(a)\n",
    "\n",
    "print(s)\n",
    "    \n",
    "    "
   ]
  },
  {
   "cell_type": "code",
   "execution_count": 16,
   "id": "f23a27e1-fbc7-4ff1-a9bb-e3142640c012",
   "metadata": {},
   "outputs": [
    {
     "name": "stdin",
     "output_type": "stream",
     "text": [
      "Enter a String:   the car is fast\n"
     ]
    },
    {
     "name": "stdout",
     "output_type": "stream",
     "text": [
      "15\n",
      "t  14\n",
      "s  13\n",
      "a  12\n",
      "f  11\n",
      "   10\n",
      "s  9\n",
      "i  8\n",
      "   7\n",
      "r  6\n",
      "a  5\n",
      "c  4\n",
      "   3\n",
      "e  2\n",
      "h  1\n",
      "t  "
     ]
    }
   ],
   "source": [
    "#Reversing a string using Stack\n",
    "s=input(\"Enter a String:  \")\n",
    "a=[]\n",
    "for i in s:\n",
    "    a.append(i)\n",
    "\n",
    "while len(a)>0:\n",
    "    print(len(a))\n",
    "    print(a.pop(),end='  ')"
   ]
  },
  {
   "cell_type": "code",
   "execution_count": 20,
   "id": "cf7ed608-ec1e-422d-b160-07c6524c1486",
   "metadata": {},
   "outputs": [
    {
     "name": "stdin",
     "output_type": "stream",
     "text": [
      " the string is reversed\n"
     ]
    },
    {
     "name": "stdout",
     "output_type": "stream",
     "text": [
      "reversed is string the "
     ]
    }
   ],
   "source": [
    "#Reversing a string using Stac\n",
    "s=input()\n",
    "a=[]\n",
    "for i in s.split():\n",
    "    a.append(i)\n",
    "\n",
    "while len(a)>0:\n",
    "    print(a.pop(),end=\" \")"
   ]
  },
  {
   "cell_type": "code",
   "execution_count": null,
   "id": "af3a681a-def7-4473-b4e0-2603fb94b07c",
   "metadata": {},
   "outputs": [],
   "source": [
    "#infix to postfix using Stack\n",
    "infix=input(\"Enter the infix expression: \")\n",
    "postfix=[]\n",
    "\n",
    "def hier(e):\n",
    "    if e==\"^\":\n",
    "        return 4\n",
    "    elif e==\"*\" or e==\"/\" or e==\"%\":\n",
    "        return 3\n",
    "    elif e==\"+\" or e==\"-\":\n",
    "        return 2\n",
    "    elif e==\"(\" or e==\")\":\n",
    "        return 1\n",
    "\n",
    "for i in infix:\n",
    "    "
   ]
  },
  {
   "cell_type": "code",
   "execution_count": 24,
   "id": "c41fb331-8bd8-4567-9f3a-4e8efb6bfdf7",
   "metadata": {},
   "outputs": [
    {
     "name": "stdin",
     "output_type": "stream",
     "text": [
      " ((a+b)*(c-d))/(e+f)\n"
     ]
    },
    {
     "name": "stdout",
     "output_type": "stream",
     "text": [
      " ab+cd-*ef+/\n"
     ]
    }
   ],
   "source": [
    "def proc(e):\n",
    "    if e==\"^\":\n",
    "        return 3\n",
    "    elif e==\"*\" or e==\"/\":\n",
    "        return 2\n",
    "    elif e==\"+\" or e==\"-\":\n",
    "        return 1\n",
    "    else:\n",
    "        return -1\n",
    "def asoc(e):\n",
    "    if e=='^':\n",
    "        return R\n",
    "    else:\n",
    "        return L\n",
    "exp=input()\n",
    "s=[]\n",
    "st=\" \"\n",
    "result=\" \"\n",
    "for e in exp:\n",
    "    if e.isalnum()==True:\n",
    "        result+=e\n",
    "    elif e==\"(\":\n",
    "        s.append(e)\n",
    "    elif e==\")\":\n",
    "        while  s[-1]!='(':\n",
    "            result+=s.pop()\n",
    "        s.pop()\n",
    "    else:\n",
    "        while s and (proc(e)<proc(s[-1]) or (proc(e)==proc(s[-1]) and asoc(e)=='L')):\n",
    "            result+=s.pop()\n",
    "        s.append(e)\n",
    "while s:\n",
    "    result+=s.pop()\n",
    "\n",
    "print(result)"
   ]
  },
  {
   "cell_type": "code",
   "execution_count": null,
   "id": "2d21bd41-a334-40df-8165-81662d35a4e0",
   "metadata": {},
   "outputs": [],
   "source": [
    "s=[]\n",
    "count=0\n",
    "exp=input()\n",
    "for e in exp:\n",
    "    if e=='(' or e=='['or e=='{':\n",
    "        s.append(e)\n",
    "    elif (e==')' and s[-1]=='(')or (e==']' and s[-1]=='[')or (e=='}'and s[-1]=='{'):\n",
    "        s.pop()\n",
    "        \n",
    "    else:\n",
    "        continue\n",
    "if not s:\n",
    "    print(\"it is valid\")\n",
    "else:\n",
    "    print(\"in-valid\")"
   ]
  },
  {
   "cell_type": "code",
   "execution_count": 1,
   "id": "0d8d8321-bd54-440d-978f-1736fc4e773a",
   "metadata": {},
   "outputs": [
    {
     "name": "stdout",
     "output_type": "stream",
     "text": [
      "5\n",
      "4\n",
      "3\n",
      "2\n",
      "1\n"
     ]
    }
   ],
   "source": [
    "def fun(x):\n",
    "    if x==0:\n",
    "        return\n",
    "    print(x)\n",
    "    return fun(x-1)\n",
    "fun(5)"
   ]
  },
  {
   "cell_type": "code",
   "execution_count": null,
   "id": "c7dc6a0c-d763-4f6f-b5f2-894b85439c8e",
   "metadata": {},
   "outputs": [],
   "source": []
  }
 ],
 "metadata": {
  "kernelspec": {
   "display_name": "Python 3 (ipykernel)",
   "language": "python",
   "name": "python3"
  },
  "language_info": {
   "codemirror_mode": {
    "name": "ipython",
    "version": 3
   },
   "file_extension": ".py",
   "mimetype": "text/x-python",
   "name": "python",
   "nbconvert_exporter": "python",
   "pygments_lexer": "ipython3",
   "version": "3.12.3"
  }
 },
 "nbformat": 4,
 "nbformat_minor": 5
}
