{
 "cells": [
  {
   "cell_type": "code",
   "execution_count": 4,
   "id": "07b4e81c-771a-4efb-9abf-71ab7b124ea1",
   "metadata": {},
   "outputs": [
    {
     "name": "stdin",
     "output_type": "stream",
     "text": [
      "Enter the limit: 5\n"
     ]
    },
    {
     "name": "stdout",
     "output_type": "stream",
     "text": [
      "Enter the Numbers: \n"
     ]
    },
    {
     "name": "stdin",
     "output_type": "stream",
     "text": [
      " 3\n",
      " 6\n",
      " 3\n",
      " 4\n",
      " 6\n"
     ]
    },
    {
     "name": "stdout",
     "output_type": "stream",
     "text": [
      "[3, 3, 4, 6, 6]\n"
     ]
    }
   ],
   "source": [
    "#Insertion Sort\n",
    "arr=[]\n",
    "n=int(input(\"Enter the limit:\"))\n",
    "print(\"Enter the Numbers: \")\n",
    "for i in range(0,n,+1):\n",
    "    a=int(input())\n",
    "    arr.append(a)\n",
    "    \n",
    "for i in range(1,len(arr)):\n",
    "    key=arr[i]\n",
    "    j=i-1\n",
    "    while j>=0 and key<arr[j] :\n",
    "        arr[j+1]=arr[j]\n",
    "        j-=1\n",
    "        arr[j+1]=key\n",
    "print(arr)"
   ]
  },
  {
   "cell_type": "code",
   "execution_count": 5,
   "id": "01bdf33e-7eae-4961-a860-5fe74cc76add",
   "metadata": {},
   "outputs": [
    {
     "name": "stdin",
     "output_type": "stream",
     "text": [
      "Enter the limit: 8\n"
     ]
    },
    {
     "name": "stdout",
     "output_type": "stream",
     "text": [
      "Enter the Numbers: \n"
     ]
    },
    {
     "name": "stdin",
     "output_type": "stream",
     "text": [
      " 2\n",
      " 5\n",
      " 6\n",
      " 3\n",
      " 4\n",
      " 5\n",
      " 2\n",
      " 1\n"
     ]
    },
    {
     "name": "stdout",
     "output_type": "stream",
     "text": [
      "[1, 2, 2, 3, 4, 5, 5, 6]\n"
     ]
    }
   ],
   "source": [
    "#Selection Sort\n",
    "arr=[]\n",
    "n=int(input(\"Enter the limit:\"))\n",
    "print(\"Enter the Numbers: \")\n",
    "for i in range(0,n,+1):\n",
    "    a=int(input())\n",
    "    arr.append(a)\n",
    "    \n",
    "for i in range(0,len(arr)):\n",
    "    midx=i\n",
    "    for j in range(i+1,len(arr)):\n",
    "        if arr[midx]>arr[j]:\n",
    "            midx=j\n",
    "    temp=arr[i]\n",
    "    arr[i]=arr[midx]\n",
    "    arr[midx]=temp\n",
    "\n",
    "print(arr)"
   ]
  },
  {
   "cell_type": "code",
   "execution_count": 50,
   "id": "b50f2e79-16bf-4a9e-b4b4-61bc07d6a754",
   "metadata": {},
   "outputs": [
    {
     "name": "stdout",
     "output_type": "stream",
     "text": [
      "Sorted list:  [1, 3, 6, 7, 9, 12, 34, 65]\n"
     ]
    },
    {
     "name": "stdin",
     "output_type": "stream",
     "text": [
      "Enter the Search Element:  1\n"
     ]
    },
    {
     "name": "stdout",
     "output_type": "stream",
     "text": [
      "Element not found\n"
     ]
    }
   ],
   "source": [
    "a=[1,3,7,6,9,34,12,65]\n",
    "a.sort()\n",
    "print(\"Sorted list: \",end=\" \")\n",
    "print(a)\n",
    "h=len(a)\n",
    "l=0\n",
    "flag=0\n",
    "key=int(input(\"Enter the Search Element: \"))\n",
    "\n",
    "while l<h:\n",
    "    m=int((l+h)/2)\n",
    "    if key==a[m]:\n",
    "        flag=1\n",
    "        print(\"Element found at location :\",m)\n",
    "        break;\n",
    "    elif key>a[m]:\n",
    "        l=m+1\n",
    "    elif key<a[m]:\n",
    "        h=m-1\n",
    "\n",
    "if flag==0:\n",
    "    print(\"Element not found\")\n",
    "    "
   ]
  },
  {
   "cell_type": "code",
   "execution_count": null,
   "id": "d30c27c1-8c35-4417-bde5-6cba42b302d8",
   "metadata": {},
   "outputs": [],
   "source": [
    "a=[]\n",
    "n=int(input(\"Enter the limit:\"))\n",
    "print(\"Enter the Numbers: \")\n",
    "for i in range(0,n,+1):\n",
    "    e=int(input())\n",
    "    a.append(e)"
   ]
  },
  {
   "cell_type": "code",
   "execution_count": 58,
   "id": "8c15a301-1638-4160-b0f4-138519c39f24",
   "metadata": {},
   "outputs": [
    {
     "name": "stdin",
     "output_type": "stream",
     "text": [
      "enter a string:  ygu\n"
     ]
    },
    {
     "name": "stdout",
     "output_type": "stream",
     "text": [
      "its not a valid strg\n",
      "its not a valid strg\n",
      "its not a valid strg\n"
     ]
    }
   ],
   "source": [
    "strg=input(\"enter a string: \")\n",
    "for i in strg:\n",
    "    if i=='(' and i==')':\n",
    "        pass\n",
    "    if i=='{' and i=='}':\n",
    "        pass\n",
    "    if i=='[' and i==']':\n",
    "        pass\n",
    "    else:\n",
    "        print(\"its not a valid strg\")"
   ]
  },
  {
   "cell_type": "code",
   "execution_count": 1,
   "id": "1faabbea-d747-4346-86ef-ce2178f9d40f",
   "metadata": {},
   "outputs": [
    {
     "name": "stdout",
     "output_type": "stream",
     "text": [
      "ENter the item is added to the Stack\n",
      "ENter the item is added to the Stack\n",
      "ENter the item is added to the Stack\n",
      "ENter the item is added to the Stack\n",
      "ENter the item is added to the Stack\n",
      "ENter the item is added to the Stack\n",
      "ENter the item is added to the Stack\n",
      "ENter the item is added to the Stack\n",
      "ENter the item is added to the Stack\n",
      "ENter the item is added to the Stack\n",
      "ENter the item is added to the Stack\n",
      "ENter the item is added to the Stack\n",
      " item Deleted\n",
      "--------------------------------------------------------------------------------------------------------------------\n",
      "[2, 12, 8, 209, 76, 23, 3, 45, 367, 164, 98]\n",
      "--------------------------------------------------------------------------------------------------------------------\n"
     ]
    }
   ],
   "source": [
    "\n",
    "\n",
    "\n",
    "\n",
    "def add(e):\n",
    "    s.append(e)\n",
    "    print(\"ENter the item is added to the Stack\")\n",
    "\n",
    "def dele():\n",
    "    s.pop()\n",
    "    print(\" item Deleted\")\n",
    "\n",
    "s=[]\n",
    "add(2)\n",
    "add(12)\n",
    "add(8)\n",
    "add(209)\n",
    "add(76)\n",
    "add(23)\n",
    "add(3)\n",
    "add(45)\n",
    "add(367)\n",
    "add(164)\n",
    "add(98)\n",
    "add(701)\n",
    "dele()\n",
    "print(\"--------------------------------------------------------------------------------------------------------------------\")\n",
    "print(s)\n",
    "print(\"--------------------------------------------------------------------------------------------------------------------\")\n"
   ]
  },
  {
   "cell_type": "code",
   "execution_count": null,
   "id": "baeb9b39-b798-40f6-8bc1-218d78f21624",
   "metadata": {},
   "outputs": [],
   "source": []
  }
 ],
 "metadata": {
  "kernelspec": {
   "display_name": "Python 3 (ipykernel)",
   "language": "python",
   "name": "python3"
  },
  "language_info": {
   "codemirror_mode": {
    "name": "ipython",
    "version": 3
   },
   "file_extension": ".py",
   "mimetype": "text/x-python",
   "name": "python",
   "nbconvert_exporter": "python",
   "pygments_lexer": "ipython3",
   "version": "3.12.3"
  }
 },
 "nbformat": 4,
 "nbformat_minor": 5
}
