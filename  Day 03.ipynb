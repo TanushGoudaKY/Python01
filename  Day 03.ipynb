{
 "cells": [
  {
   "cell_type": "code",
   "execution_count": 33,
   "id": "4f245720-cd4d-4cdd-a8d5-f8aa828f9cfb",
   "metadata": {},
   "outputs": [
    {
     "name": "stdout",
     "output_type": "stream",
     "text": [
      "[56, 34, 65, 3.2, 89, 'TG']\n",
      "89\n",
      "<class 'int'>\n",
      "<class 'float'>\n",
      "<class 'str'>\n",
      "T\n"
     ]
    }
   ],
   "source": [
    "#Array Declaration using lists\n",
    "\n",
    "A=[56,34,65,3.2,89,'TG']\n",
    "\n",
    "print(A)\n",
    "\n",
    "print(A[4])\n",
    "\n",
    "print(type(A[4]))\n",
    "\n",
    "print(type(A[3]))\n",
    "\n",
    "print(type(A[5][1]))\n",
    "\n",
    "print(A[5][0])"
   ]
  },
  {
   "cell_type": "code",
   "execution_count": 45,
   "id": "b0288748-10c6-422a-8b2d-cce813e99c0b",
   "metadata": {},
   "outputs": [
    {
     "name": "stdout",
     "output_type": "stream",
     "text": [
      "1   2.56   3   4   Tanush   6   "
     ]
    }
   ],
   "source": [
    "A=[1,2.56,3,4,'Tanush',6]\n",
    "for x in range(6):\n",
    "    print(A[x],end=\"   \")"
   ]
  },
  {
   "cell_type": "code",
   "execution_count": 24,
   "id": "6d4962fa-1634-4257-991b-7fdea4458f95",
   "metadata": {},
   "outputs": [
    {
     "name": "stdout",
     "output_type": "stream",
     "text": [
      "[1, 2, 3, 4, 5, 6]\n"
     ]
    }
   ],
   "source": [
    "a=[1,2,3,4,5,6]\n",
    "#copying a List\n",
    "b=a.copy()\n",
    "print(b)"
   ]
  },
  {
   "cell_type": "code",
   "execution_count": 25,
   "id": "fcda9d0e-cf33-4658-a988-101287166b20",
   "metadata": {},
   "outputs": [
    {
     "name": "stdout",
     "output_type": "stream",
     "text": [
      "4\n"
     ]
    }
   ],
   "source": [
    "#Poping and single element\n",
    "c=b.pop(3)\n",
    "print(c)"
   ]
  },
  {
   "cell_type": "code",
   "execution_count": 26,
   "id": "fe920420-6a0b-4b45-8358-e38f6fbbade6",
   "metadata": {},
   "outputs": [
    {
     "name": "stdout",
     "output_type": "stream",
     "text": [
      "[1, 2, 3, 5, 6]\n",
      "[1, 2, 3, 5, 6, 23]\n",
      "[1, 2, 3, 5, 6, 23, 23]\n"
     ]
    }
   ],
   "source": [
    "#Append\n",
    "print(b)\n",
    "b.append(23)\n",
    "print(b)\n",
    "b.append(23)\n",
    "print(b)\n"
   ]
  },
  {
   "cell_type": "code",
   "execution_count": 27,
   "id": "28b0d687-3f95-4174-8b98-d9b68b424b29",
   "metadata": {},
   "outputs": [
    {
     "name": "stdout",
     "output_type": "stream",
     "text": [
      "5\n"
     ]
    }
   ],
   "source": [
    "#Index\n",
    "print(b.index(23))\n"
   ]
  },
  {
   "cell_type": "code",
   "execution_count": 28,
   "id": "b9fef741-3c35-45d9-959b-07ef51d45ae1",
   "metadata": {},
   "outputs": [
    {
     "name": "stdout",
     "output_type": "stream",
     "text": [
      "2\n"
     ]
    }
   ],
   "source": [
    "#Counting a list elements\n",
    "print(b.count(23))"
   ]
  },
  {
   "cell_type": "code",
   "execution_count": 29,
   "id": "3767dfd0-a11d-4dcc-9330-eeb880e0583f",
   "metadata": {},
   "outputs": [
    {
     "name": "stdout",
     "output_type": "stream",
     "text": [
      "[1, 2, 3, 56, 5, 6, 23, 23]\n"
     ]
    }
   ],
   "source": [
    "#insert\n",
    "b.insert(3,56)\n",
    "print(b)"
   ]
  },
  {
   "cell_type": "code",
   "execution_count": 30,
   "id": "a524f9e1-ec87-40b4-b93e-65da5760e4ed",
   "metadata": {},
   "outputs": [
    {
     "name": "stdout",
     "output_type": "stream",
     "text": [
      "[1, 2, 3, 56, 5, 6, 23]\n"
     ]
    }
   ],
   "source": [
    "#Removing a elements\n",
    "b.remove(23)\n",
    "print(b)"
   ]
  },
  {
   "cell_type": "code",
   "execution_count": 32,
   "id": "5d16d620-8f46-44bb-acac-e4546e6808ad",
   "metadata": {},
   "outputs": [
    {
     "name": "stdout",
     "output_type": "stream",
     "text": [
      "[1, 2, 3, 5, 6, 23, 56]\n"
     ]
    }
   ],
   "source": [
    "#Sorting the elements in ascending order\n",
    "b.sort()\n",
    "print(b)"
   ]
  },
  {
   "cell_type": "code",
   "execution_count": 33,
   "id": "94535b4c-dba2-4806-aea1-89b8a28a4b4d",
   "metadata": {},
   "outputs": [
    {
     "name": "stdout",
     "output_type": "stream",
     "text": [
      "[56, 23, 6, 5, 3, 2, 1]\n"
     ]
    }
   ],
   "source": [
    "#Sorting the elements in descending order\n",
    "b.sort(reverse=True)\n",
    "print(b)"
   ]
  },
  {
   "cell_type": "code",
   "execution_count": 34,
   "id": "c2871fd6-ac5f-44b6-844f-c0edd1e49a6f",
   "metadata": {},
   "outputs": [
    {
     "name": "stdout",
     "output_type": "stream",
     "text": [
      "[56, 23, 6, 5, 3, 2, 1, 1, 2, 3, 4, 5, 6]\n"
     ]
    }
   ],
   "source": [
    "#Extending the element\n",
    "b.extend(a)\n",
    "print(b)"
   ]
  },
  {
   "cell_type": "code",
   "execution_count": 37,
   "id": "24a18fec-ad8d-4575-856f-c624841f0544",
   "metadata": {},
   "outputs": [
    {
     "name": "stdout",
     "output_type": "stream",
     "text": [
      "56   23   6   5   3   2   1   1   2   3   4   5   6   "
     ]
    }
   ],
   "source": [
    "a=[56, 23, 6, 5, 3, 2, 1, 1, 2, 3, 4, 5, 6]\n",
    "for x in a:\n",
    "    print(,end=\"  \")"
   ]
  },
  {
   "cell_type": "code",
   "execution_count": 11,
   "id": "f5a9febc-65a7-4e8b-8d84-33bb332d6f07",
   "metadata": {},
   "outputs": [
    {
     "name": "stdin",
     "output_type": "stream",
     "text": [
      "Enter the size:  5\n"
     ]
    },
    {
     "name": "stdout",
     "output_type": "stream",
     "text": [
      "Enter the elements: \n"
     ]
    },
    {
     "name": "stdin",
     "output_type": "stream",
     "text": [
      " 23\n",
      " 56\n",
      " 85\n",
      " 12\n",
      " 63\n"
     ]
    },
    {
     "name": "stdout",
     "output_type": "stream",
     "text": [
      "[23, 56, 85, 12, 63]\n"
     ]
    }
   ],
   "source": [
    "### Dynamically entering the elements of list\n",
    "x=[]\n",
    "n=int(input(\"Enter the size: \"))\n",
    "print(\"Enter the elements: \")\n",
    "for i in range(0,n):\n",
    "    a=int(input())\n",
    "    x.append(a)\n",
    "print(x)"
   ]
  },
  {
   "cell_type": "code",
   "execution_count": 21,
   "id": "af4eeeff-749b-456b-aee9-3a95dbe71d65",
   "metadata": {},
   "outputs": [
    {
     "name": "stdin",
     "output_type": "stream",
     "text": [
      "Enter the list:  45 56 32 56 894 13 Tanush\n"
     ]
    },
    {
     "name": "stdout",
     "output_type": "stream",
     "text": [
      "['45', '56', '32', '56', '894', '13', 'Tanush']\n"
     ]
    }
   ],
   "source": [
    "l=[item for item in(input(\"Enter the list: \").split())]\n",
    "print(l)"
   ]
  },
  {
   "cell_type": "code",
   "execution_count": 22,
   "id": "d93edd9b-b0c6-4518-8636-fad05b5fcae8",
   "metadata": {},
   "outputs": [
    {
     "name": "stdout",
     "output_type": "stream",
     "text": [
      "(1, 2, 3.4, 5, 6, 'Tanush')\n",
      "[1, 2, 3.4, 5, 6, 'Tanush']\n",
      "(1, 2, 3.4, 5, 6, 'Tanush')\n"
     ]
    }
   ],
   "source": [
    "#Tuples\n",
    "a=(1,2,3.4,5,6,'Tanush')\n",
    "print(a)\n",
    "\n",
    "#converting the tuples into Lists\n",
    "x=list(a)\n",
    "print(x)\n",
    "\n",
    "#Converting the lists to tuples\n",
    "b=tuple(x)\n",
    "print(b)"
   ]
  },
  {
   "cell_type": "code",
   "execution_count": 33,
   "id": "8b386bae-d1a7-49b5-9ff3-57483b20dd86",
   "metadata": {},
   "outputs": [
    {
     "name": "stdout",
     "output_type": "stream",
     "text": [
      "[6, 5, 4, 3, 2, 1]\n"
     ]
    }
   ],
   "source": [
    "a=[1,2,3,4,5,6]\n",
    "b=[]\n",
    "for i in a:\n",
    "    b.append(a[-i])\n",
    "print(b)\n"
   ]
  },
  {
   "cell_type": "code",
   "execution_count": 55,
   "id": "9e1021e1-d190-4251-816b-5ec8f07f5c59",
   "metadata": {},
   "outputs": [
    {
     "name": "stdout",
     "output_type": "stream",
     "text": [
      "4  1  8  7  6  5  6  3  4  1  "
     ]
    }
   ],
   "source": [
    "a=[1,4,3,6,5,6,7,8]\n",
    "for i in range(-1,len(a)+1):\n",
    "    print(a[-i],end=\"  \")\n"
   ]
  },
  {
   "cell_type": "code",
   "execution_count": 50,
   "id": "4986d1c1-2df6-4946-b583-c8174639053a",
   "metadata": {},
   "outputs": [
    {
     "name": "stdout",
     "output_type": "stream",
     "text": [
      "8  7  6  5  4  3  2  1  "
     ]
    }
   ],
   "source": [
    "a=[1,2,3,4,5,6,7,8]\n",
    "for x in range(-1,-1*(len(a)+1),-1):\n",
    "    print(a[x],end=\"  \")"
   ]
  },
  {
   "cell_type": "code",
   "execution_count": 68,
   "id": "371762d2-e09e-4e0b-b40e-76f95647b494",
   "metadata": {},
   "outputs": [
    {
     "name": "stdout",
     "output_type": "stream",
     "text": [
      "{1: 'Tanush', 2: 'Samrat'}\n",
      "{1: 'Tanush', 2: 'Shankar'}\n",
      "Tanush\n",
      "dict_keys([1, 2])\n",
      "dict_values(['Tanush', 'Shankar'])\n",
      "dict_items([(1, 'Tanush'), (2, 'Shankar')])\n",
      "Tanush\n"
     ]
    }
   ],
   "source": [
    "#Dictionary\n",
    "\n",
    "d={1:'Tanush',2:'Samrat'}\n",
    "print(d)\n",
    "\n",
    "#overiding the key and values\n",
    "d={1:'Tanush',2:'Samrat',2:'Shankar'}\n",
    "print(d)\n",
    "\n",
    "print(d[1])\n",
    "\n",
    "print(d.keys())\n",
    "print(d.values())\n",
    "print(d.items())\n",
    "print(d.get(1))"
   ]
  },
  {
   "cell_type": "code",
   "execution_count": 56,
   "id": "dbd9eb36-1e6f-42ca-8a4f-8f44491f6668",
   "metadata": {},
   "outputs": [
    {
     "name": "stdin",
     "output_type": "stream",
     "text": [
      "enter the keys: 1l\n"
     ]
    },
    {
     "ename": "TypeError",
     "evalue": "int() argument must be a string, a bytes-like object or a real number, not 'list'",
     "output_type": "error",
     "traceback": [
      "\u001b[1;31m---------------------------------------------------------------------------\u001b[0m",
      "\u001b[1;31mTypeError\u001b[0m                                 Traceback (most recent call last)",
      "Cell \u001b[1;32mIn[56], line 1\u001b[0m\n\u001b[1;32m----> 1\u001b[0m key\u001b[38;5;241m=\u001b[39m\u001b[38;5;28;43mint\u001b[39;49m\u001b[43m(\u001b[49m\u001b[38;5;28;43minput\u001b[39;49m\u001b[43m(\u001b[49m\u001b[38;5;124;43m\"\u001b[39;49m\u001b[38;5;124;43menter the keys:\u001b[39;49m\u001b[38;5;124;43m\"\u001b[39;49m\u001b[43m)\u001b[49m\u001b[38;5;241;43m.\u001b[39;49m\u001b[43msplit\u001b[49m\u001b[43m(\u001b[49m\u001b[43m)\u001b[49m\u001b[43m)\u001b[49m\n\u001b[0;32m      2\u001b[0m val\u001b[38;5;241m=\u001b[39m\u001b[38;5;28minput\u001b[39m(\u001b[38;5;124m\"\u001b[39m\u001b[38;5;124menter the values:\u001b[39m\u001b[38;5;124m\"\u001b[39m)\u001b[38;5;241m.\u001b[39msplit()\n\u001b[0;32m      3\u001b[0m d\u001b[38;5;241m=\u001b[39m{}\n",
      "\u001b[1;31mTypeError\u001b[0m: int() argument must be a string, a bytes-like object or a real number, not 'list'"
     ]
    }
   ],
   "source": [
    "key=int(input(\"enter the keys:\").split())\n",
    "val=input(\"enter the values:\").split()\n",
    "d={}\n",
    "for i in range(0,len(a)):\n",
    "    d.get(key)\n",
    "    d.get(val)\n",
    "print(d)\n",
    "for i in range"
   ]
  },
  {
   "cell_type": "code",
   "execution_count": 77,
   "id": "723613cb-3eec-47da-b12d-17e808494b1a",
   "metadata": {},
   "outputs": [
    {
     "name": "stdin",
     "output_type": "stream",
     "text": [
      "ENter the key 6\n"
     ]
    },
    {
     "name": "stdout",
     "output_type": "stream",
     "text": [
      "ERROR no value and key found\n"
     ]
    }
   ],
   "source": [
    "#Exception Handling\n",
    "\n",
    "a={1:'tanush',2:'sam',3:'BTS',4:'santu',5:'gdfn'}\n",
    "i=int(input(\"ENter the key\"))\n",
    "try:\n",
    "    print(a[i])\n",
    "except:\n",
    "    print(\"ERROR\",\"no value and key found\")\n",
    "    "
   ]
  },
  {
   "cell_type": "code",
   "execution_count": 1,
   "id": "cd1603ee-ed5c-46a1-94dd-581bfe52447f",
   "metadata": {},
   "outputs": [
    {
     "name": "stdin",
     "output_type": "stream",
     "text": [
      " 9\n",
      " 0\n"
     ]
    },
    {
     "name": "stdout",
     "output_type": "stream",
     "text": [
      "Can't divide by zero\n",
      "Code Execution Done\n"
     ]
    }
   ],
   "source": [
    "try:\n",
    "    a=input()\n",
    "    b=input()\n",
    "    c=int(a)/int(b)\n",
    "except ValueError:\n",
    "    print(\"value is invalid\")\n",
    "except ZeroDivisionError:\n",
    "    print(\"Can't divide by zero\")\n",
    "except:\n",
    "    print(\"some unknown error occured\")\n",
    "else:\n",
    "    print(\"No Error\",c)\n",
    "finally:\n",
    "    print(\"Code Execution Done\")"
   ]
  },
  {
   "cell_type": "code",
   "execution_count": null,
   "id": "77621123-4c60-4181-b1c8-e00479b6a6e4",
   "metadata": {},
   "outputs": [],
   "source": []
  }
 ],
 "metadata": {
  "kernelspec": {
   "display_name": "Python 3 (ipykernel)",
   "language": "python",
   "name": "python3"
  },
  "language_info": {
   "codemirror_mode": {
    "name": "ipython",
    "version": 3
   },
   "file_extension": ".py",
   "mimetype": "text/x-python",
   "name": "python",
   "nbconvert_exporter": "python",
   "pygments_lexer": "ipython3",
   "version": "3.12.3"
  }
 },
 "nbformat": 4,
 "nbformat_minor": 5
}
