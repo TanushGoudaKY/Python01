{
 "cells": [
  {
   "cell_type": "code",
   "execution_count": 1,
   "id": "0f4be62f-e083-4117-873a-2147cbf79a24",
   "metadata": {},
   "outputs": [
    {
     "name": "stdout",
     "output_type": "stream",
     "text": [
      "Hello\n"
     ]
    }
   ],
   "source": [
    "print(\"Hello\")\n"
   ]
  },
  {
   "cell_type": "code",
   "execution_count": 2,
   "id": "6e2f62dc-71c2-46bd-978b-7276f4d83535",
   "metadata": {},
   "outputs": [
    {
     "name": "stdout",
     "output_type": "stream",
     "text": [
      "<class 'int'>\n",
      "<class 'float'>\n",
      "<class 'str'>\n",
      "5\n",
      "TANUSH\n",
      "7.5\n"
     ]
    },
    {
     "ename": "TypeError",
     "evalue": "can only concatenate str (not \"float\") to str",
     "output_type": "error",
     "traceback": [
      "\u001b[1;31m---------------------------------------------------------------------------\u001b[0m",
      "\u001b[1;31mTypeError\u001b[0m                                 Traceback (most recent call last)",
      "Cell \u001b[1;32mIn[2], line 10\u001b[0m\n\u001b[0;32m      8\u001b[0m \u001b[38;5;28mprint\u001b[39m(c)\n\u001b[0;32m      9\u001b[0m \u001b[38;5;28mprint\u001b[39m(a\u001b[38;5;241m+\u001b[39mb)\n\u001b[1;32m---> 10\u001b[0m \u001b[38;5;28mprint\u001b[39m(\u001b[43mc\u001b[49m\u001b[38;5;241;43m+\u001b[39;49m\u001b[43mb\u001b[49m)\n",
      "\u001b[1;31mTypeError\u001b[0m: can only concatenate str (not \"float\") to str"
     ]
    }
   ],
   "source": [
    "a=5\n",
    "b=2.5\n",
    "c='TANUSH'\n",
    "print(type(a))\n",
    "print(type(b))\n",
    "print(type(c))\n",
    "print(a)\n",
    "print(c)\n",
    "print(a+b)\n",
    "print(c+b)\n",
    "\n"
   ]
  },
  {
   "cell_type": "code",
   "execution_count": 23,
   "id": "f1e5d0b7-b939-4669-8458-d518259441fb",
   "metadata": {},
   "outputs": [
    {
     "name": "stdout",
     "output_type": "stream",
     "text": [
      "(2, 3)\n",
      "<class 'tuple'>\n",
      "[1, 2, 3, 4, 5, 6]\n",
      "<class 'list'>\n",
      "{1: 'AA', 2: 'BB'}\n",
      "<class 'dict'>\n"
     ]
    }
   ],
   "source": [
    "\n",
    "a=(2,3)\n",
    "print(a)\n",
    "print(type(a))\n",
    "\n",
    "a=[1,2,3,4,5,6]\n",
    "print(a)\n",
    "print(type(a))\n",
    "\n",
    "\n",
    "a={1:\"AA\",2:\"BB\"}\n",
    "print(a)\n",
    "print(type(a))"
   ]
  },
  {
   "cell_type": "code",
   "execution_count": 24,
   "id": "7ec5f6ff-91b7-4cec-bb7e-4ac14f2e7da4",
   "metadata": {},
   "outputs": [
    {
     "name": "stdout",
     "output_type": "stream",
     "text": [
      "200 200 200\n"
     ]
    }
   ],
   "source": [
    "a=b=c=200\n",
    "print(a,b,c)"
   ]
  },
  {
   "cell_type": "code",
   "execution_count": 26,
   "id": "1fec5f97-60af-4085-acd0-698d10049fb4",
   "metadata": {},
   "outputs": [
    {
     "name": "stdout",
     "output_type": "stream",
     "text": [
      "89 10 26 45\n"
     ]
    }
   ],
   "source": [
    "a,b,c,d={10,45,26,89}\n",
    "print(a,b,c,d)"
   ]
  },
  {
   "cell_type": "code",
   "execution_count": 30,
   "id": "d10cca5c-0333-4277-899d-5b224783e062",
   "metadata": {},
   "outputs": [
    {
     "name": "stdout",
     "output_type": "stream",
     "text": [
      "pfdah fkash ghgrjhg dgau\n",
      "pfdahfkashghgrjhgfbhaifhb\n"
     ]
    }
   ],
   "source": [
    "a=\"pfdah\"\n",
    "b=\"fkash\"\n",
    "c=\"ghgrjhg\"\n",
    "print(a,b,c,\"dgau\")\n",
    "print(a+b+c+\"fbhaifhb\")\n"
   ]
  },
  {
   "cell_type": "code",
   "execution_count": 48,
   "id": "2219d8be-211b-418b-bdc7-b2aff5b4e960",
   "metadata": {},
   "outputs": [
    {
     "name": "stdin",
     "output_type": "stream",
     "text": [
      " 45\n",
      " 56\n"
     ]
    },
    {
     "name": "stdout",
     "output_type": "stream",
     "text": [
      "45\n",
      "56\n",
      "<class 'int'>\n",
      "<class 'int'>\n",
      "<class 'int'>\n",
      "101\n"
     ]
    }
   ],
   "source": [
    "#INPUT STATEMENT \n",
    "a=int(input())\n",
    "b=int(input())\n",
    "print(a)\n",
    "print(b)\n",
    "print(type(a))\n",
    "print(type(b))\n",
    "c=int(a)+int(b)\n",
    "print(type(c))\n",
    "print(c)"
   ]
  },
  {
   "cell_type": "code",
   "execution_count": 49,
   "id": "70af19be-bcbc-4eb8-b3f3-985bdc504d70",
   "metadata": {},
   "outputs": [
    {
     "name": "stdin",
     "output_type": "stream",
     "text": [
      "Enter the first number:  5\n",
      "Enter the second number:  2\n"
     ]
    },
    {
     "name": "stdout",
     "output_type": "stream",
     "text": [
      "5\n",
      "2\n",
      "7\n"
     ]
    }
   ],
   "source": [
    "a=int(input(\"Enter the first number: \"))\n",
    "b=int(input(\"Enter the second number: \"))\n",
    "print(a)\n",
    "print(b)\n",
    "c=a+b\n",
    "print(c)"
   ]
  },
  {
   "cell_type": "code",
   "execution_count": 52,
   "id": "f09f8454-16b6-420a-8e07-6caf222de5f3",
   "metadata": {},
   "outputs": [
    {
     "name": "stdin",
     "output_type": "stream",
     "text": [
      "Enter the three number:  45 225 12 \n"
     ]
    },
    {
     "name": "stdout",
     "output_type": "stream",
     "text": [
      "45\n",
      "225\n",
      "12\n",
      "282\n"
     ]
    }
   ],
   "source": [
    "a,b,c=input(\"Enter the three number: \").split()\n",
    "print(a)\n",
    "print(b)\n",
    "print(c)\n",
    "d=int(a)+int(b)+int(c)\n",
    "print(d)\n"
   ]
  },
  {
   "cell_type": "code",
   "execution_count": 54,
   "id": "f62ef22c-d1c7-49fb-b77d-f12109f88ad6",
   "metadata": {},
   "outputs": [
    {
     "name": "stdin",
     "output_type": "stream",
     "text": [
      "Enter the three number:  250 50 100\n"
     ]
    },
    {
     "name": "stdout",
     "output_type": "stream",
     "text": [
      "250\n",
      "50\n",
      "100\n",
      "300\n"
     ]
    }
   ],
   "source": [
    "a,b,c=input(\"Enter the three number: \").split()\n",
    "print(a)\n",
    "print(b)\n",
    "print(c)\n",
    "d=int(a)-int(b)+int(c)\n",
    "print(d)"
   ]
  },
  {
   "cell_type": "code",
   "execution_count": 55,
   "id": "0e7bfcfe-a829-4ea9-ab45-c8fda483d9dc",
   "metadata": {},
   "outputs": [
    {
     "name": "stdin",
     "output_type": "stream",
     "text": [
      "Enter the three number:  5 2 3\n"
     ]
    },
    {
     "name": "stdout",
     "output_type": "stream",
     "text": [
      "5\n",
      "2\n",
      "3\n",
      "30\n"
     ]
    }
   ],
   "source": [
    "a,b,c=input(\"Enter the three number: \").split()\n",
    "print(a)\n",
    "print(b)\n",
    "print(c)\n",
    "d=int(a)*int(b)*int(c)\n",
    "print(d)"
   ]
  },
  {
   "cell_type": "code",
   "execution_count": 58,
   "id": "c1d76f21-f79c-4bcf-a796-5d965803f733",
   "metadata": {},
   "outputs": [
    {
     "name": "stdin",
     "output_type": "stream",
     "text": [
      "Enter the three number:  45 3 5\n"
     ]
    },
    {
     "name": "stdout",
     "output_type": "stream",
     "text": [
      "45\n",
      "3\n",
      "5\n",
      "3.0\n"
     ]
    }
   ],
   "source": [
    "a,b,c=input(\"Enter the three number: \").split()\n",
    "print(a)\n",
    "print(b)\n",
    "print(c)\n",
    "d=int(a)/int(b)/int(c)\n",
    "print(d)"
   ]
  },
  {
   "cell_type": "code",
   "execution_count": 59,
   "id": "1a810951-e565-4d4b-b4b6-a5481ccb99aa",
   "metadata": {},
   "outputs": [
    {
     "name": "stdin",
     "output_type": "stream",
     "text": [
      "Enter the three number:  5 6 3\n"
     ]
    },
    {
     "name": "stdout",
     "output_type": "stream",
     "text": [
      "5\n",
      "6\n",
      "3\n",
      "563\n"
     ]
    }
   ],
   "source": [
    "a,b,c=input(\"Enter the three number: \").split()\n",
    "print(a)\n",
    "print(b)\n",
    "print(c)\n",
    "d=a+b+c\n",
    "print(d)\n"
   ]
  },
  {
   "cell_type": "code",
   "execution_count": null,
   "id": "aa8d37bd-d940-4171-9f7a-ac46d81d615c",
   "metadata": {},
   "outputs": [],
   "source": []
  }
 ],
 "metadata": {
  "kernelspec": {
   "display_name": "Python 3 (ipykernel)",
   "language": "python",
   "name": "python3"
  },
  "language_info": {
   "codemirror_mode": {
    "name": "ipython",
    "version": 3
   },
   "file_extension": ".py",
   "mimetype": "text/x-python",
   "name": "python",
   "nbconvert_exporter": "python",
   "pygments_lexer": "ipython3",
   "version": "3.12.3"
  }
 },
 "nbformat": 4,
 "nbformat_minor": 5
}
