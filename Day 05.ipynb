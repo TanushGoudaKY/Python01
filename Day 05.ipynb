{
 "cells": [
  {
   "cell_type": "code",
   "execution_count": 12,
   "id": "1d901c9e-c9da-456c-877a-b190e1da0c47",
   "metadata": {},
   "outputs": [
    {
     "name": "stdin",
     "output_type": "stream",
     "text": [
      "Enter the number of Fruits:   3\n"
     ]
    },
    {
     "name": "stdout",
     "output_type": "stream",
     "text": [
      "Enter the fruits : \n"
     ]
    },
    {
     "name": "stdin",
     "output_type": "stream",
     "text": [
      " t\n",
      " g\n",
      " h\n",
      " enter the Fruits that is to be replaced:  h\n",
      " enter the Fruits to replace:  k\n"
     ]
    },
    {
     "name": "stdout",
     "output_type": "stream",
     "text": [
      "t\n",
      "g\n",
      "h\n",
      "\n",
      "t\n",
      "g\n",
      "k\n",
      "\n"
     ]
    }
   ],
   "source": [
    "#program to replace a file element\n",
    "import os\n",
    "n=int(input(\"Enter the number of Fruits:  \"))\n",
    "print(\"Enter the fruits : \")\n",
    "with open(\"Fruits.txt\",'w') as f:\n",
    "    for i in range(0,n):\n",
    "        f.write(input())\n",
    "        f.write(\"\\n\")\n",
    "\n",
    "        \n",
    "old=input(\" enter the Fruits that is to be replaced: \")\n",
    "new=input(\" enter the Fruits to replace: \")\n",
    "with open(\"Fruits.txt\",'r+') as f:\n",
    "    a=f.read()\n",
    "    print(a)\n",
    "    a=a.replace(old,new)\n",
    "    f.write(a)\n",
    "    print(a)\n",
    "    f.close()\n",
    "\n",
    " "
   ]
  },
  {
   "cell_type": "code",
   "execution_count": 21,
   "id": "be4aae16-4c33-443b-80d0-91a7b9035d24",
   "metadata": {},
   "outputs": [
    {
     "name": "stdout",
     "output_type": "stream",
     "text": [
      "this laptop have I5 8GB RAM 2TB SSD\n",
      "1\n",
      "0\n"
     ]
    }
   ],
   "source": [
    "#Class Declaration\n",
    "class laptop:\n",
    "    A=0\n",
    "    def config(self):\n",
    "        print(\"this laptop have I5 8GB RAM 2TB SSD\")\n",
    "\n",
    "hp=laptop()\n",
    "dell=laptop()\n",
    "hp.config()\n",
    "hp.A +=1\n",
    "print(hp.A)\n",
    "print(dell.A)"
   ]
  },
  {
   "cell_type": "code",
   "execution_count": 26,
   "id": "b98f7a6d-01e8-4c95-a07f-c19f757e60a7",
   "metadata": {},
   "outputs": [
    {
     "name": "stdout",
     "output_type": "stream",
     "text": [
      "0\n",
      "20\n"
     ]
    }
   ],
   "source": [
    "class laptop:\n",
    "    a=0\n",
    "    def config(self):\n",
    "        print(\"this laptop have I5 8GB RAM 2TB SSD\")\n",
    "\n",
    "    def __init__(self,value):\n",
    "        self.b=value\n",
    "\n",
    "\n",
    "Acer=laptop(20)\n",
    "print(Acer.a)\n",
    "print(Acer.b)\n"
   ]
  },
  {
   "cell_type": "code",
   "execution_count": 43,
   "id": "ae90b1f4-df51-4d85-8d38-ccd123ce9c0f",
   "metadata": {},
   "outputs": [
    {
     "name": "stdout",
     "output_type": "stream",
     "text": [
      "Dell Laptop--> Processor: i3 RAM: 4GB Storage: 512 SSD\n",
      "Asus Laptop--> Processor: i7 RAM: 16GB Storage: 512 SSD\n",
      "Lenevo Laptop-->  Processor: i7 RAM: 16GB Storage: 512 SSD\n"
     ]
    }
   ],
   "source": [
    "class laptop():\n",
    "    def __init__(self,str0,str1,str2):\n",
    "        self.processor=str0\n",
    "        self.ram=str1\n",
    "        self.storage=str2\n",
    "\n",
    "Dell=laptop(\"i3\",\"4GB\",\"512 SSD\")\n",
    "print(\"Dell Laptop-->\",end=\" \")\n",
    "print(\"Processor:\",Dell.processor,end=\" \")\n",
    "print(\"RAM:\",Dell.ram,end=\" \")\n",
    "print(\"Storage:\",Dell.storage)\n",
    "\n",
    "Asus=laptop(\"i7\",\"16GB\",\"512 SSD\")\n",
    "print(\"Asus Laptop-->\",end=\" \")\n",
    "print(\"Processor:\",Asus.processor,end=\" \")\n",
    "print(\"RAM:\",Asus.ram,end=\" \")\n",
    "print(\"Storage:\",Asus.storage)\n",
    "\n",
    "Lenevo=laptop(\"i7\",\"16GB\",\"512 SSD\")\n",
    "print(\"Lenevo Laptop--> \",end=\" \")\n",
    "print(\"Processor:\",Lenevo.processor,end=\" \")\n",
    "print(\"RAM:\",Lenevo.ram,end=\" \")\n",
    "print(\"Storage:\",Lenevo.storage)"
   ]
  },
  {
   "cell_type": "code",
   "execution_count": 116,
   "id": "de5d9fe1-72a2-4ab2-85c0-1ccfa5ff3546",
   "metadata": {},
   "outputs": [
    {
     "name": "stdout",
     "output_type": "stream",
     "text": [
      "HP laptop\n",
      "configuration of a laptop:\n",
      "Processor i3 RAM 4 Storage 512 "
     ]
    }
   ],
   "source": [
    "class laptop:\n",
    "     def __init__(self,value1,value2,value3):\n",
    "         self.processor=value1\n",
    "         self.ram=value2\n",
    "         self.storage=value3\n",
    "\n",
    "     def config(self):\n",
    "         print(\"configuration of a laptop:\")\n",
    "         print(\"Processor\",self.processor,end=\" \")\n",
    "         print(\"RAM\",self.ram,end=\" \")\n",
    "         print(\"Storage\",self.storage,end=\" \")\n",
    "\n",
    "if __name__==\"__main__\":\n",
    "    print(\"HP laptop\")\n",
    "    hp=laptop(\"i3\",4,512)\n",
    "    hp.config()"
   ]
  },
  {
   "cell_type": "code",
   "execution_count": 59,
   "id": "d17a56a4-6b20-48be-9e05-2ee6f369b749",
   "metadata": {},
   "outputs": [
    {
     "name": "stdout",
     "output_type": "stream",
     "text": [
      "The marks of the student: \n",
      "Subject 1:  100\n",
      "Subject 2:  95\n",
      "Subject 3:  78\n",
      "Subject 4:  87\n",
      "Subject 5:  96\n",
      "Average of the Marks =  91.2\n"
     ]
    }
   ],
   "source": [
    "class Student():\n",
    "    def __init__(self,marks1,marks2,marks3,marks4,marks5):\n",
    "        self.s1=marks1\n",
    "        self.s2=marks2\n",
    "        self.s3=marks3\n",
    "        self.s4=marks4\n",
    "        self.s5=marks5\n",
    "\n",
    "\n",
    "    def marksheet(self):\n",
    "        print(\"The marks of the student: \")\n",
    "        print(\"Subject 1: \",self.s1)\n",
    "        print(\"Subject 2: \",self.s2)\n",
    "        print(\"Subject 3: \",self.s3)\n",
    "        print(\"Subject 4: \",self.s4)\n",
    "        print(\"Subject 5: \",self.s5)\n",
    "        print(\"Average of the Marks = \",(self.s1+self.s2+self.s3+self.s4+self.s5)/5)\n",
    "\n",
    "if __name__==\"__main__\":\n",
    "    student1=Student(100,95,78,87,96)\n",
    "    student1.marksheet()\n"
   ]
  },
  {
   "cell_type": "code",
   "execution_count": 78,
   "id": "32e5df0c-0ca8-44b7-bb08-65a55f9e92d2",
   "metadata": {},
   "outputs": [
    {
     "name": "stdout",
     "output_type": "stream",
     "text": [
      "12\n",
      "34\n",
      "56\n",
      "Public Variable:  12\n",
      "Protected Variable:  34\n"
     ]
    },
    {
     "ename": "AttributeError",
     "evalue": "'demo' object has no attribute 'z'",
     "output_type": "error",
     "traceback": [
      "\u001b[1;31m---------------------------------------------------------------------------\u001b[0m",
      "\u001b[1;31mAttributeError\u001b[0m                            Traceback (most recent call last)",
      "Cell \u001b[1;32mIn[78], line 25\u001b[0m\n\u001b[0;32m     23\u001b[0m \u001b[38;5;28mprint\u001b[39m(\u001b[38;5;124m\"\u001b[39m\u001b[38;5;124mPublic Variable: \u001b[39m\u001b[38;5;124m\"\u001b[39m,ob1\u001b[38;5;241m.\u001b[39mx)\n\u001b[0;32m     24\u001b[0m \u001b[38;5;28mprint\u001b[39m(\u001b[38;5;124m\"\u001b[39m\u001b[38;5;124mProtected Variable: \u001b[39m\u001b[38;5;124m\"\u001b[39m,ob1\u001b[38;5;241m.\u001b[39m_y)\n\u001b[1;32m---> 25\u001b[0m \u001b[38;5;28mprint\u001b[39m(\u001b[38;5;124m\"\u001b[39m\u001b[38;5;124mPrivate Variable: \u001b[39m\u001b[38;5;124m\"\u001b[39m,\u001b[43mob1\u001b[49m\u001b[38;5;241;43m.\u001b[39;49m\u001b[43mz\u001b[49m)\n",
      "\u001b[1;31mAttributeError\u001b[0m: 'demo' object has no attribute 'z'"
     ]
    }
   ],
   "source": [
    "#Access Modifiers\n",
    "#Public\n",
    "#Private ( __ )\n",
    "#Protected( _ )\n",
    "\n",
    "class demo:\n",
    "    def __init__(self,a,b,c):\n",
    "        self.x=a\n",
    "        self._y=b\n",
    "        self.__z=c\n",
    "    def output_z(self):\n",
    "        print(self.__z)\n",
    "    def output_x(self):\n",
    "        print(self.x)\n",
    "    def output_y(self):\n",
    "        print(self._y)\n",
    "\n",
    "ob1=demo(12,34,56)\n",
    "ob1.output_x()\n",
    "ob1.output_y()\n",
    "ob1.output_z()\n",
    "\n",
    "print(\"Public Variable: \",ob1.x)\n",
    "print(\"Protected Variable: \",ob1._y)\n",
    "print(\"Private Variable: \",ob1.z)"
   ]
  },
  {
   "cell_type": "code",
   "execution_count": 76,
   "id": "a981f4dd-bf5f-4a97-b4bf-7ca8d01ea226",
   "metadata": {},
   "outputs": [
    {
     "name": "stdout",
     "output_type": "stream",
     "text": [
      "constructor of class a\n"
     ]
    }
   ],
   "source": [
    "class a:\n",
    "    def __init__(self):\n",
    "        print(\"constructor of class a\")\n",
    "class b(a):\n",
    "    def _init_(self):\n",
    "        print(\"constructor of class b\")\n",
    "class c(b,a):\n",
    "     def _init_(self):\n",
    "        print(\"constructor of class c\")\n",
    "if __name__==\"__main__\":\n",
    "    ob1=c()"
   ]
  },
  {
   "cell_type": "code",
   "execution_count": 113,
   "id": "212d10aa-9cbf-4c3f-bec4-1eedf3c080a7",
   "metadata": {},
   "outputs": [
    {
     "name": "stdout",
     "output_type": "stream",
     "text": [
      "1 2\n",
      "constructor of class b\n",
      "constructor of class with  2 3\n",
      "constructor of class a with <class '__main__.a'>\n",
      "Printing of class B\n"
     ]
    }
   ],
   "source": [
    "class a:\n",
    "    def __init__(self,a,b):\n",
    "        self.x=a\n",
    "        self.y=b\n",
    "        print(self.x,self.y)\n",
    "    def abc(self,a,b):\n",
    "        print(\"constructor of class with \",a,b) \n",
    "    def show(self,):\n",
    "        print(\"constructor of class a with\",a)\n",
    "class b(a):\n",
    "    def __init__(self):\n",
    "        print(\"constructor of class b\")\n",
    "    def show(self):\n",
    "        print(\"Printing of class B\")\n",
    "        \n",
    "class show(b,a):\n",
    "    def __init__(self):\n",
    "        print(\"constructor of class c\")\n",
    "        \n",
    "if __name__==\"__main__\":\n",
    "    ob=a(1,2)\n",
    "    ob1=b()\n",
    "    ob.abc(2,3)\n",
    "    ob.show()\n",
    "    ob1.show()"
   ]
  },
  {
   "cell_type": "code",
   "execution_count": 99,
   "id": "21058f41-f22f-4dec-a62f-7f1159b166e3",
   "metadata": {},
   "outputs": [
    {
     "name": "stdout",
     "output_type": "stream",
     "text": [
      "<------------PROFESSIONAL LAPTOP-------------->\n",
      "Processor      :  i5\n",
      "RAM            :  8 GB\n",
      "Storage        :  512 SSD\n",
      "Battery Backup :  12 Hrs\n",
      "                                         \n",
      "<---------------GAMING LAPTOP----------------->\n",
      "Processor      :  i7\n",
      "RAM            :  16 GB\n",
      "Storage        :  1 TB\n",
      "Graphics       :  4-GB RTX-3060 \n"
     ]
    }
   ],
   "source": [
    "class lp:\n",
    "    def __init__(self,a,b,c):\n",
    "        self.processor=a\n",
    "        self.RAM=b\n",
    "        self.storage=c\n",
    "    def show(self):\n",
    "        print(\"Processor      : \",self.processor)\n",
    "        print(\"RAM            : \",self.RAM)\n",
    "        print(\"Storage        : \",self.storage)\n",
    "\n",
    "\n",
    "class plp(lp):\n",
    "    def __init__(self,a,b,c,battery):\n",
    "        self.Battery=battery\n",
    "        super().__init__(a,b,c)\n",
    "    def show(self):\n",
    "        print(\"<------------PROFESSIONAL LAPTOP-------------->\")\n",
    "        super().show()\n",
    "        print(\"Battery Backup : \",self.Battery)\n",
    "\n",
    "class glp(lp):\n",
    "    def __init__(self,a,b,c,graphics):\n",
    "        self.Graphics=graphics\n",
    "        super().__init__(a,b,c)\n",
    "    def show(self):\n",
    "        print(\"<---------------GAMING LAPTOP----------------->\")\n",
    "        super().show()\n",
    "        print(\"Graphics       : \",self.Graphics)\n",
    "\n",
    "if __name__==\"__main__\":\n",
    "    pro1=plp(\"i5\",\"8 GB\",\"512 SSD\",\"12 Hrs\")\n",
    "    pro1.show()\n",
    "    print(\"                                         \")\n",
    "    gro1=glp(\"i7\",\"16 GB\",\"1 TB\",\"4-GB RTX-3060 \")\n",
    "    gro1.show()\n",
    "        \n",
    "        "
   ]
  },
  {
   "cell_type": "code",
   "execution_count": 110,
   "id": "3b50dfe9-9f9e-4a8a-94b0-1f3460f4a232",
   "metadata": {},
   "outputs": [
    {
     "name": "stdout",
     "output_type": "stream",
     "text": [
      "Ticket booked Fare Price will be:  5510\n"
     ]
    }
   ],
   "source": [
    "class ticket:\n",
    "   \n",
    "    def __init__(self,D):\n",
    "        self.distance = int(D)\n",
    "        self.farePrice = None\n",
    "\n",
    "class gen(ticket):\n",
    "    def __init__(self,D):\n",
    "        super().__init__(D)\n",
    "    def print_ticket(self):\n",
    "        self.farePrice=50+(self.distance*2)\n",
    "        return self.farePrice\n",
    "        \n",
    "\n",
    "\n",
    "class slp(gen):\n",
    "    def __init__(self,D):\n",
    "        super().__init__(D)\n",
    "\n",
    "    def print_ticket(self):\n",
    "        self.farePrice=super().print_ticket()+(2*self.distance)\n",
    "        return self.farePrice\n",
    "\n",
    "class AC(slp):\n",
    "    def __init__(self,D):\n",
    "        super().__init__(D)\n",
    "    def print_ticket(self):\n",
    "        self.farePrice=super().print_ticket()+(4*self.distance)\n",
    "        return self.farePrice\n",
    "\n",
    "class FC(AC):\n",
    "    def __init__(self,D):\n",
    "        super().__init__(D)\n",
    "    def print_ticket(self):\n",
    "        self.farePrice=super().print_ticket()+(5*self.distance)\n",
    "        return self.farePrice\n",
    "\n",
    "\n",
    "jur = FC(420)\n",
    "print(\"Ticket booked Fare Price will be: \",jur.print_ticket())"
   ]
  },
  {
   "cell_type": "code",
   "execution_count": null,
   "id": "10ea2d51-f23c-4f98-beb9-0365b425c8c9",
   "metadata": {},
   "outputs": [],
   "source": []
  }
 ],
 "metadata": {
  "kernelspec": {
   "display_name": "Python 3 (ipykernel)",
   "language": "python",
   "name": "python3"
  },
  "language_info": {
   "codemirror_mode": {
    "name": "ipython",
    "version": 3
   },
   "file_extension": ".py",
   "mimetype": "text/x-python",
   "name": "python",
   "nbconvert_exporter": "python",
   "pygments_lexer": "ipython3",
   "version": "3.12.3"
  }
 },
 "nbformat": 4,
 "nbformat_minor": 5
}
